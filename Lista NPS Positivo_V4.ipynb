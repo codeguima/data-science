{
  "cells": [
    {
      "cell_type": "markdown",
      "metadata": {
        "id": "view-in-github",
        "colab_type": "text"
      },
      "source": [
        "<a href=\"https://colab.research.google.com/github/codeguima/data-science/blob/jhonnycodedev/Lista%20NPS%20Positivo_V4.ipynb\" target=\"_parent\"><img src=\"https://colab.research.google.com/assets/colab-badge.svg\" alt=\"Open In Colab\"/></a>"
      ]
    },
    {
      "cell_type": "code",
      "source": [
        "import pandas as pd\n"
      ],
      "metadata": {
        "id": "6HXSvUpR4B_6"
      },
      "execution_count": 1,
      "outputs": []
    },
    {
      "cell_type": "code",
      "source": [
        "from google.colab import files\n",
        "uploaded = files.upload()\n"
      ],
      "metadata": {
        "colab": {
          "base_uri": "https://localhost:8080/",
          "height": 90
        },
        "id": "dbG8ADph4-Ek",
        "outputId": "29a5dcad-ef34-4964-ff67-c1e1ca8e1c41"
      },
      "execution_count": 2,
      "outputs": [
        {
          "output_type": "display_data",
          "data": {
            "text/plain": [
              "<IPython.core.display.HTML object>"
            ],
            "text/html": [
              "\n",
              "     <input type=\"file\" id=\"files-f7a2f277-839a-4ef0-b41a-337a4f7d8651\" name=\"files[]\" multiple disabled\n",
              "        style=\"border:none\" />\n",
              "     <output id=\"result-f7a2f277-839a-4ef0-b41a-337a4f7d8651\">\n",
              "      Upload widget is only available when the cell has been executed in the\n",
              "      current browser session. Please rerun this cell to enable.\n",
              "      </output>\n",
              "      <script>// Copyright 2017 Google LLC\n",
              "//\n",
              "// Licensed under the Apache License, Version 2.0 (the \"License\");\n",
              "// you may not use this file except in compliance with the License.\n",
              "// You may obtain a copy of the License at\n",
              "//\n",
              "//      http://www.apache.org/licenses/LICENSE-2.0\n",
              "//\n",
              "// Unless required by applicable law or agreed to in writing, software\n",
              "// distributed under the License is distributed on an \"AS IS\" BASIS,\n",
              "// WITHOUT WARRANTIES OR CONDITIONS OF ANY KIND, either express or implied.\n",
              "// See the License for the specific language governing permissions and\n",
              "// limitations under the License.\n",
              "\n",
              "/**\n",
              " * @fileoverview Helpers for google.colab Python module.\n",
              " */\n",
              "(function(scope) {\n",
              "function span(text, styleAttributes = {}) {\n",
              "  const element = document.createElement('span');\n",
              "  element.textContent = text;\n",
              "  for (const key of Object.keys(styleAttributes)) {\n",
              "    element.style[key] = styleAttributes[key];\n",
              "  }\n",
              "  return element;\n",
              "}\n",
              "\n",
              "// Max number of bytes which will be uploaded at a time.\n",
              "const MAX_PAYLOAD_SIZE = 100 * 1024;\n",
              "\n",
              "function _uploadFiles(inputId, outputId) {\n",
              "  const steps = uploadFilesStep(inputId, outputId);\n",
              "  const outputElement = document.getElementById(outputId);\n",
              "  // Cache steps on the outputElement to make it available for the next call\n",
              "  // to uploadFilesContinue from Python.\n",
              "  outputElement.steps = steps;\n",
              "\n",
              "  return _uploadFilesContinue(outputId);\n",
              "}\n",
              "\n",
              "// This is roughly an async generator (not supported in the browser yet),\n",
              "// where there are multiple asynchronous steps and the Python side is going\n",
              "// to poll for completion of each step.\n",
              "// This uses a Promise to block the python side on completion of each step,\n",
              "// then passes the result of the previous step as the input to the next step.\n",
              "function _uploadFilesContinue(outputId) {\n",
              "  const outputElement = document.getElementById(outputId);\n",
              "  const steps = outputElement.steps;\n",
              "\n",
              "  const next = steps.next(outputElement.lastPromiseValue);\n",
              "  return Promise.resolve(next.value.promise).then((value) => {\n",
              "    // Cache the last promise value to make it available to the next\n",
              "    // step of the generator.\n",
              "    outputElement.lastPromiseValue = value;\n",
              "    return next.value.response;\n",
              "  });\n",
              "}\n",
              "\n",
              "/**\n",
              " * Generator function which is called between each async step of the upload\n",
              " * process.\n",
              " * @param {string} inputId Element ID of the input file picker element.\n",
              " * @param {string} outputId Element ID of the output display.\n",
              " * @return {!Iterable<!Object>} Iterable of next steps.\n",
              " */\n",
              "function* uploadFilesStep(inputId, outputId) {\n",
              "  const inputElement = document.getElementById(inputId);\n",
              "  inputElement.disabled = false;\n",
              "\n",
              "  const outputElement = document.getElementById(outputId);\n",
              "  outputElement.innerHTML = '';\n",
              "\n",
              "  const pickedPromise = new Promise((resolve) => {\n",
              "    inputElement.addEventListener('change', (e) => {\n",
              "      resolve(e.target.files);\n",
              "    });\n",
              "  });\n",
              "\n",
              "  const cancel = document.createElement('button');\n",
              "  inputElement.parentElement.appendChild(cancel);\n",
              "  cancel.textContent = 'Cancel upload';\n",
              "  const cancelPromise = new Promise((resolve) => {\n",
              "    cancel.onclick = () => {\n",
              "      resolve(null);\n",
              "    };\n",
              "  });\n",
              "\n",
              "  // Wait for the user to pick the files.\n",
              "  const files = yield {\n",
              "    promise: Promise.race([pickedPromise, cancelPromise]),\n",
              "    response: {\n",
              "      action: 'starting',\n",
              "    }\n",
              "  };\n",
              "\n",
              "  cancel.remove();\n",
              "\n",
              "  // Disable the input element since further picks are not allowed.\n",
              "  inputElement.disabled = true;\n",
              "\n",
              "  if (!files) {\n",
              "    return {\n",
              "      response: {\n",
              "        action: 'complete',\n",
              "      }\n",
              "    };\n",
              "  }\n",
              "\n",
              "  for (const file of files) {\n",
              "    const li = document.createElement('li');\n",
              "    li.append(span(file.name, {fontWeight: 'bold'}));\n",
              "    li.append(span(\n",
              "        `(${file.type || 'n/a'}) - ${file.size} bytes, ` +\n",
              "        `last modified: ${\n",
              "            file.lastModifiedDate ? file.lastModifiedDate.toLocaleDateString() :\n",
              "                                    'n/a'} - `));\n",
              "    const percent = span('0% done');\n",
              "    li.appendChild(percent);\n",
              "\n",
              "    outputElement.appendChild(li);\n",
              "\n",
              "    const fileDataPromise = new Promise((resolve) => {\n",
              "      const reader = new FileReader();\n",
              "      reader.onload = (e) => {\n",
              "        resolve(e.target.result);\n",
              "      };\n",
              "      reader.readAsArrayBuffer(file);\n",
              "    });\n",
              "    // Wait for the data to be ready.\n",
              "    let fileData = yield {\n",
              "      promise: fileDataPromise,\n",
              "      response: {\n",
              "        action: 'continue',\n",
              "      }\n",
              "    };\n",
              "\n",
              "    // Use a chunked sending to avoid message size limits. See b/62115660.\n",
              "    let position = 0;\n",
              "    do {\n",
              "      const length = Math.min(fileData.byteLength - position, MAX_PAYLOAD_SIZE);\n",
              "      const chunk = new Uint8Array(fileData, position, length);\n",
              "      position += length;\n",
              "\n",
              "      const base64 = btoa(String.fromCharCode.apply(null, chunk));\n",
              "      yield {\n",
              "        response: {\n",
              "          action: 'append',\n",
              "          file: file.name,\n",
              "          data: base64,\n",
              "        },\n",
              "      };\n",
              "\n",
              "      let percentDone = fileData.byteLength === 0 ?\n",
              "          100 :\n",
              "          Math.round((position / fileData.byteLength) * 100);\n",
              "      percent.textContent = `${percentDone}% done`;\n",
              "\n",
              "    } while (position < fileData.byteLength);\n",
              "  }\n",
              "\n",
              "  // All done.\n",
              "  yield {\n",
              "    response: {\n",
              "      action: 'complete',\n",
              "    }\n",
              "  };\n",
              "}\n",
              "\n",
              "scope.google = scope.google || {};\n",
              "scope.google.colab = scope.google.colab || {};\n",
              "scope.google.colab._files = {\n",
              "  _uploadFiles,\n",
              "  _uploadFilesContinue,\n",
              "};\n",
              "})(self);\n",
              "</script> "
            ]
          },
          "metadata": {}
        },
        {
          "output_type": "stream",
          "name": "stdout",
          "text": [
            "Saving Lista NPS Positivo_V4 (1).xlsx to Lista NPS Positivo_V4 (1).xlsx\n"
          ]
        }
      ]
    },
    {
      "cell_type": "code",
      "source": [
        "import io\n",
        "\n",
        "# Substitua 'nome_do_arquivo.xlsx' pelo nome do seu arquivo\n",
        "df = pd.read_excel(io.BytesIO(uploaded['Lista NPS Positivo_V4 (1).xlsx']), engine='openpyxl')\n"
      ],
      "metadata": {
        "id": "K-Duc9tq5Fc1"
      },
      "execution_count": 5,
      "outputs": []
    },
    {
      "cell_type": "code",
      "source": [
        "# Verificando as primeiras linhas\n",
        "#print(df.head())\n",
        "\n",
        "# Resumo estatístico\n",
        "#print(df.describe())\n",
        "\n",
        "# Informações sobre o DataFrame\n",
        "#print(df.info())\n"
      ],
      "metadata": {
        "id": "4YVrT9Jm42nM"
      },
      "execution_count": null,
      "outputs": []
    },
    {
      "cell_type": "code",
      "source": [
        "# Função para classificar as notas\n",
        "df['target'] = df['nota'].apply(lambda x: 'Promotor' if x >= 9 else ('Neutro' if x >= 7 else 'Detrator'))\n"
      ],
      "metadata": {
        "id": "iiq84gs3AAgq"
      },
      "execution_count": 6,
      "outputs": []
    },
    {
      "cell_type": "code",
      "source": [
        "#print(df.groupby('target').count())"
      ],
      "metadata": {
        "id": "5Xw6Rc5_AE-q"
      },
      "execution_count": null,
      "outputs": []
    },
    {
      "cell_type": "code",
      "source": [
        "\n",
        "# Filtrar para \"Grupo de Produto\" == \"Grupo 2\"\n",
        "grupo_2_df = df[(df['Grupo de Produto'] == 'Grupo 2') & (df['mercado'] == 'BRASIL')]\n",
        "\n",
        "\n",
        "# Definir as regiões com base nos estados\n",
        "regioes = {\n",
        "    \"Norte\": ['AC', 'AP', 'AM', 'PA', 'RO', 'RR', 'TO'],\n",
        "    \"Nordeste\": ['AL', 'BA', 'CE', 'MA', 'PB', 'PE', 'PI', 'RN', 'SE'],\n",
        "    \"Centro-Oeste\": ['DF', 'GO', 'MT', 'MS'],\n",
        "    \"Sul\": ['PR', 'RS', 'SC'],\n",
        "    \"Suldeste\": ['ES', 'MG', 'RJ', 'SP']\n",
        "}\n",
        "\n",
        "# Função para definir a região com base no estado\n",
        "def obter_regiao(estado):\n",
        "    for regiao, estados in regioes.items():\n",
        "        if estado in estados:\n",
        "            return regiao\n",
        "    return 'Outros(não identificado)'  # Para estados fora das regiões definidas\n",
        "\n"
      ],
      "metadata": {
        "id": "0yeM-JKZ6Ye7"
      },
      "execution_count": 26,
      "outputs": []
    },
    {
      "cell_type": "code",
      "source": [
        "# Crie a coluna 'regiao' se ainda não tiver feito\n",
        "grupo_2_df['regiao'] = grupo_2_df['estado'].apply(obter_regiao)\n",
        "\n",
        "# Crie um dicionário para armazenar os DataFrames\n",
        "dfs_por_regiao = {}\n",
        "\n",
        "# Use o groupby para dividir o DataFrame por 'regiao'\n",
        "for regiao, df_regiao in grupo_2_df.groupby('regiao'):\n",
        "    dfs_por_regiao[regiao] = df_regiao\n"
      ],
      "metadata": {
        "id": "bIq1Pdk5yDys",
        "outputId": "de27c252-ead7-45ac-d8d5-a45e7af4f934",
        "colab": {
          "base_uri": "https://localhost:8080/"
        }
      },
      "execution_count": 27,
      "outputs": [
        {
          "output_type": "stream",
          "name": "stderr",
          "text": [
            "<ipython-input-27-40cb2707167c>:2: SettingWithCopyWarning: \n",
            "A value is trying to be set on a copy of a slice from a DataFrame.\n",
            "Try using .loc[row_indexer,col_indexer] = value instead\n",
            "\n",
            "See the caveats in the documentation: https://pandas.pydata.org/pandas-docs/stable/user_guide/indexing.html#returning-a-view-versus-a-copy\n",
            "  grupo_2_df['regiao'] = grupo_2_df['estado'].apply(obter_regiao)\n"
          ]
        }
      ]
    },
    {
      "cell_type": "code",
      "source": [
        "df_norte = dfs_por_regiao['Norte']\n",
        "df_sul = dfs_por_regiao['Sul']\n",
        "df_centro_oeste = dfs_por_regiao['Centro-Oeste']\n",
        "df_nordeste = dfs_por_regiao['Nordeste']\n",
        "df_sudeste = dfs_por_regiao['Suldeste']\n"
      ],
      "metadata": {
        "id": "CnEmhRUT8sd_"
      },
      "execution_count": 28,
      "outputs": []
    },
    {
      "cell_type": "code",
      "source": [
        "# Garantir que a coluna 'data_resposta' está no formato datetime no df_norte\n",
        "df_norte['data_resposta'] = pd.to_datetime(df_norte['data_resposta'], dayfirst=True)\n",
        "\n",
        "# Adicionar coluna 'safra' (apenas o ano da data) no df_norte\n",
        "df_filter = df_norte['safra'] = df_norte['data_resposta'].dt.year\n",
        "\n"
      ],
      "metadata": {
        "id": "2slySPRhy8Pl"
      },
      "execution_count": 38,
      "outputs": []
    },
    {
      "cell_type": "code",
      "source": [
        "# Volumetria total por safra\n",
        "df_dg = volumetria_safra = df_norte.groupby('safra').size().reset_index(name='quantidade')\n",
        "volumetria_safra['percentual'] = volumetria_safra['quantidade'] / volumetria_safra['quantidade'].sum() * 100\n",
        "\n",
        "\n"
      ],
      "metadata": {
        "id": "UwlEfFbI07P-"
      },
      "execution_count": 60,
      "outputs": []
    },
    {
      "cell_type": "code",
      "source": [
        "# Volumetria por período de pesquisa e safra\n",
        "volumetria_periodo = df_norte.groupby(['Periodo de Pesquisa', 'safra']).size().reset_index(name='quantidade')"
      ],
      "metadata": {
        "id": "TDXrNXAX-AsZ"
      },
      "execution_count": 55,
      "outputs": []
    },
    {
      "cell_type": "code",
      "source": [
        "# Calcular o percentual com transform\n",
        "volumetria_periodo['percentual'] = volumetria_periodo.groupby('Periodo de Pesquisa')['quantidade'].transform(lambda x: x / x.sum() * 100)\n"
      ],
      "metadata": {
        "id": "hkXojbS8-jr1"
      },
      "execution_count": 57,
      "outputs": []
    },
    {
      "cell_type": "code",
      "source": [
        "\n",
        "# Soma total de safras (verificação)\n",
        "total_safras = volumetria_safra['quantidade'].sum()\n",
        "verificacao_total = len(df_norte) == total_safras"
      ],
      "metadata": {
        "id": "iBaT4GU25HEc"
      },
      "execution_count": 58,
      "outputs": []
    },
    {
      "cell_type": "code",
      "source": [
        "# Resultados\n",
        "print(\"Volumetria por Safra (Total):\\n\", volumetria_safra)\n",
        "print(\"\\nVolumetria por Período de Pesquisa:\\n\", volumetria_periodo)\n",
        "print(f\"\\nVerificação Total: {'Correto' if verificacao_total else 'Incorreto'}\")"
      ],
      "metadata": {
        "colab": {
          "base_uri": "https://localhost:8080/"
        },
        "id": "SKp97Ci-AEjK",
        "outputId": "d457d73d-a591-45a8-ae1a-8aee9f7c84d8"
      },
      "execution_count": 59,
      "outputs": [
        {
          "output_type": "stream",
          "name": "stdout",
          "text": [
            "Volumetria por Safra (Total):\n",
            "    safra  quantidade  percentual\n",
            "0   2022          25   14.880952\n",
            "1   2023          81   48.214286\n",
            "2   2024          62   36.904762\n",
            "\n",
            "Volumetria por Período de Pesquisa:\n",
            "    Periodo de Pesquisa  safra  quantidade  percentual\n",
            "0            12 a 18 M   2022           5   12.820513\n",
            "1            12 a 18 M   2023          20   51.282051\n",
            "2            12 a 18 M   2024          14   35.897436\n",
            "3            18 a 30 M   2022           1    2.702703\n",
            "4            18 a 30 M   2023          29   78.378378\n",
            "5            18 a 30 M   2024           7   18.918919\n",
            "6              3 a 6 M   2022           9   18.367347\n",
            "7              3 a 6 M   2023          16   32.653061\n",
            "8              3 a 6 M   2024          24   48.979592\n",
            "9             6 a 12 M   2022          10   23.255814\n",
            "10            6 a 12 M   2023          16   37.209302\n",
            "11            6 a 12 M   2024          17   39.534884\n",
            "\n",
            "Verificação Total: Correto\n"
          ]
        }
      ]
    },
    {
      "cell_type": "code",
      "source": [
        "# Função para classificar as notas\n",
        "df_norte['target'] = df_norte['nota'].apply(lambda x: 'Promotor' if x >= 9 else ('Neutro' if x >= 7 else 'Detrator'))\n",
        "\n",
        "# Verifique se 'safra' foi criada antes, se não, crie-a:\n",
        "df_norte['data_resposta'] = pd.to_datetime(df_norte['data_resposta'], dayfirst=True)\n",
        "df_norte['safra'] = df_norte['data_resposta'].dt.year\n",
        "\n",
        "# Calcular volumetria por safra e target\n",
        "volumetria_safra_target = df_norte.groupby(['safra', 'target']).size().reset_index(name='quantidade')\n",
        "\n",
        "# Calcular percentuais dentro de cada safra\n",
        "volumetria_safra_target['percentual'] = volumetria_safra_target.groupby('safra')['quantidade'].transform(lambda x: x / x.sum() * 100)\n",
        "\n",
        "# Resultado\n",
        "print(volumetria_safra_target)\n"
      ],
      "metadata": {
        "colab": {
          "base_uri": "https://localhost:8080/"
        },
        "id": "D6V3MHB66llz",
        "outputId": "ae103e98-70e0-432a-db44-58f3d74b8604"
      },
      "execution_count": 61,
      "outputs": [
        {
          "output_type": "stream",
          "name": "stdout",
          "text": [
            "   safra    target  quantidade  percentual\n",
            "0   2022  Detrator           2    8.000000\n",
            "1   2022    Neutro           5   20.000000\n",
            "2   2022  Promotor          18   72.000000\n",
            "3   2023  Detrator           7    8.641975\n",
            "4   2023    Neutro          16   19.753086\n",
            "5   2023  Promotor          58   71.604938\n",
            "6   2024  Detrator           7   11.290323\n",
            "7   2024    Neutro           7   11.290323\n",
            "8   2024  Promotor          48   77.419355\n"
          ]
        }
      ]
    }
  ],
  "metadata": {
    "colab": {
      "name": "Damos-lhe as boas-vindas ao Colaboratory",
      "toc_visible": true,
      "provenance": [],
      "include_colab_link": true
    },
    "kernelspec": {
      "display_name": "Python 3",
      "name": "python3"
    }
  },
  "nbformat": 4,
  "nbformat_minor": 0
}