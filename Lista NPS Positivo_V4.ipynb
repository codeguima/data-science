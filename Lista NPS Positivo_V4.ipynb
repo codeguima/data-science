{
  "cells": [
    {
      "cell_type": "markdown",
      "metadata": {
        "id": "view-in-github",
        "colab_type": "text"
      },
      "source": [
        "<a href=\"https://colab.research.google.com/github/codeguima/data-science/blob/jhonnycodedev/Lista%20NPS%20Positivo_V4.ipynb\" target=\"_parent\"><img src=\"https://colab.research.google.com/assets/colab-badge.svg\" alt=\"Open In Colab\"/></a>"
      ]
    },
    {
      "cell_type": "markdown",
      "source": [
        "#IMPORTANDO A LISTA PARA ANALISE, AVALIAÇÃO FINAL DATA SCIENCE"
      ],
      "metadata": {
        "id": "3edWfRocH-WD"
      }
    },
    {
      "cell_type": "code",
      "source": [
        "import pandas as pd\n"
      ],
      "metadata": {
        "id": "6HXSvUpR4B_6"
      },
      "execution_count": 1,
      "outputs": []
    },
    {
      "cell_type": "code",
      "source": [
        "from google.colab import files\n",
        "uploaded = files.upload()\n"
      ],
      "metadata": {
        "colab": {
          "base_uri": "https://localhost:8080/",
          "height": 73
        },
        "id": "dbG8ADph4-Ek",
        "outputId": "29a5dcad-ef34-4964-ff67-c1e1ca8e1c41"
      },
      "execution_count": 2,
      "outputs": [
        {
          "output_type": "display_data",
          "data": {
            "text/plain": [
              "<IPython.core.display.HTML object>"
            ],
            "text/html": [
              "\n",
              "     <input type=\"file\" id=\"files-f7a2f277-839a-4ef0-b41a-337a4f7d8651\" name=\"files[]\" multiple disabled\n",
              "        style=\"border:none\" />\n",
              "     <output id=\"result-f7a2f277-839a-4ef0-b41a-337a4f7d8651\">\n",
              "      Upload widget is only available when the cell has been executed in the\n",
              "      current browser session. Please rerun this cell to enable.\n",
              "      </output>\n",
              "      <script>// Copyright 2017 Google LLC\n",
              "//\n",
              "// Licensed under the Apache License, Version 2.0 (the \"License\");\n",
              "// you may not use this file except in compliance with the License.\n",
              "// You may obtain a copy of the License at\n",
              "//\n",
              "//      http://www.apache.org/licenses/LICENSE-2.0\n",
              "//\n",
              "// Unless required by applicable law or agreed to in writing, software\n",
              "// distributed under the License is distributed on an \"AS IS\" BASIS,\n",
              "// WITHOUT WARRANTIES OR CONDITIONS OF ANY KIND, either express or implied.\n",
              "// See the License for the specific language governing permissions and\n",
              "// limitations under the License.\n",
              "\n",
              "/**\n",
              " * @fileoverview Helpers for google.colab Python module.\n",
              " */\n",
              "(function(scope) {\n",
              "function span(text, styleAttributes = {}) {\n",
              "  const element = document.createElement('span');\n",
              "  element.textContent = text;\n",
              "  for (const key of Object.keys(styleAttributes)) {\n",
              "    element.style[key] = styleAttributes[key];\n",
              "  }\n",
              "  return element;\n",
              "}\n",
              "\n",
              "// Max number of bytes which will be uploaded at a time.\n",
              "const MAX_PAYLOAD_SIZE = 100 * 1024;\n",
              "\n",
              "function _uploadFiles(inputId, outputId) {\n",
              "  const steps = uploadFilesStep(inputId, outputId);\n",
              "  const outputElement = document.getElementById(outputId);\n",
              "  // Cache steps on the outputElement to make it available for the next call\n",
              "  // to uploadFilesContinue from Python.\n",
              "  outputElement.steps = steps;\n",
              "\n",
              "  return _uploadFilesContinue(outputId);\n",
              "}\n",
              "\n",
              "// This is roughly an async generator (not supported in the browser yet),\n",
              "// where there are multiple asynchronous steps and the Python side is going\n",
              "// to poll for completion of each step.\n",
              "// This uses a Promise to block the python side on completion of each step,\n",
              "// then passes the result of the previous step as the input to the next step.\n",
              "function _uploadFilesContinue(outputId) {\n",
              "  const outputElement = document.getElementById(outputId);\n",
              "  const steps = outputElement.steps;\n",
              "\n",
              "  const next = steps.next(outputElement.lastPromiseValue);\n",
              "  return Promise.resolve(next.value.promise).then((value) => {\n",
              "    // Cache the last promise value to make it available to the next\n",
              "    // step of the generator.\n",
              "    outputElement.lastPromiseValue = value;\n",
              "    return next.value.response;\n",
              "  });\n",
              "}\n",
              "\n",
              "/**\n",
              " * Generator function which is called between each async step of the upload\n",
              " * process.\n",
              " * @param {string} inputId Element ID of the input file picker element.\n",
              " * @param {string} outputId Element ID of the output display.\n",
              " * @return {!Iterable<!Object>} Iterable of next steps.\n",
              " */\n",
              "function* uploadFilesStep(inputId, outputId) {\n",
              "  const inputElement = document.getElementById(inputId);\n",
              "  inputElement.disabled = false;\n",
              "\n",
              "  const outputElement = document.getElementById(outputId);\n",
              "  outputElement.innerHTML = '';\n",
              "\n",
              "  const pickedPromise = new Promise((resolve) => {\n",
              "    inputElement.addEventListener('change', (e) => {\n",
              "      resolve(e.target.files);\n",
              "    });\n",
              "  });\n",
              "\n",
              "  const cancel = document.createElement('button');\n",
              "  inputElement.parentElement.appendChild(cancel);\n",
              "  cancel.textContent = 'Cancel upload';\n",
              "  const cancelPromise = new Promise((resolve) => {\n",
              "    cancel.onclick = () => {\n",
              "      resolve(null);\n",
              "    };\n",
              "  });\n",
              "\n",
              "  // Wait for the user to pick the files.\n",
              "  const files = yield {\n",
              "    promise: Promise.race([pickedPromise, cancelPromise]),\n",
              "    response: {\n",
              "      action: 'starting',\n",
              "    }\n",
              "  };\n",
              "\n",
              "  cancel.remove();\n",
              "\n",
              "  // Disable the input element since further picks are not allowed.\n",
              "  inputElement.disabled = true;\n",
              "\n",
              "  if (!files) {\n",
              "    return {\n",
              "      response: {\n",
              "        action: 'complete',\n",
              "      }\n",
              "    };\n",
              "  }\n",
              "\n",
              "  for (const file of files) {\n",
              "    const li = document.createElement('li');\n",
              "    li.append(span(file.name, {fontWeight: 'bold'}));\n",
              "    li.append(span(\n",
              "        `(${file.type || 'n/a'}) - ${file.size} bytes, ` +\n",
              "        `last modified: ${\n",
              "            file.lastModifiedDate ? file.lastModifiedDate.toLocaleDateString() :\n",
              "                                    'n/a'} - `));\n",
              "    const percent = span('0% done');\n",
              "    li.appendChild(percent);\n",
              "\n",
              "    outputElement.appendChild(li);\n",
              "\n",
              "    const fileDataPromise = new Promise((resolve) => {\n",
              "      const reader = new FileReader();\n",
              "      reader.onload = (e) => {\n",
              "        resolve(e.target.result);\n",
              "      };\n",
              "      reader.readAsArrayBuffer(file);\n",
              "    });\n",
              "    // Wait for the data to be ready.\n",
              "    let fileData = yield {\n",
              "      promise: fileDataPromise,\n",
              "      response: {\n",
              "        action: 'continue',\n",
              "      }\n",
              "    };\n",
              "\n",
              "    // Use a chunked sending to avoid message size limits. See b/62115660.\n",
              "    let position = 0;\n",
              "    do {\n",
              "      const length = Math.min(fileData.byteLength - position, MAX_PAYLOAD_SIZE);\n",
              "      const chunk = new Uint8Array(fileData, position, length);\n",
              "      position += length;\n",
              "\n",
              "      const base64 = btoa(String.fromCharCode.apply(null, chunk));\n",
              "      yield {\n",
              "        response: {\n",
              "          action: 'append',\n",
              "          file: file.name,\n",
              "          data: base64,\n",
              "        },\n",
              "      };\n",
              "\n",
              "      let percentDone = fileData.byteLength === 0 ?\n",
              "          100 :\n",
              "          Math.round((position / fileData.byteLength) * 100);\n",
              "      percent.textContent = `${percentDone}% done`;\n",
              "\n",
              "    } while (position < fileData.byteLength);\n",
              "  }\n",
              "\n",
              "  // All done.\n",
              "  yield {\n",
              "    response: {\n",
              "      action: 'complete',\n",
              "    }\n",
              "  };\n",
              "}\n",
              "\n",
              "scope.google = scope.google || {};\n",
              "scope.google.colab = scope.google.colab || {};\n",
              "scope.google.colab._files = {\n",
              "  _uploadFiles,\n",
              "  _uploadFilesContinue,\n",
              "};\n",
              "})(self);\n",
              "</script> "
            ]
          },
          "metadata": {}
        },
        {
          "output_type": "stream",
          "name": "stdout",
          "text": [
            "Saving Lista NPS Positivo_V4 (1).xlsx to Lista NPS Positivo_V4 (1).xlsx\n"
          ]
        }
      ]
    },
    {
      "cell_type": "code",
      "source": [
        "import io\n",
        "\n",
        "# Substitua 'nome_do_arquivo.xlsx' pelo nome do seu arquivo\n",
        "df = pd.read_excel(io.BytesIO(uploaded['Lista NPS Positivo_V4 (1).xlsx']), engine='openpyxl')\n"
      ],
      "metadata": {
        "id": "K-Duc9tq5Fc1"
      },
      "execution_count": 5,
      "outputs": []
    },
    {
      "cell_type": "markdown",
      "source": [
        "#**ITEM 1 DA LISTA**\n"
      ],
      "metadata": {
        "id": "d6UVTxhdHTpg"
      }
    },
    {
      "cell_type": "code",
      "source": [
        "# Função para classificar as notas\n",
        "df['target'] = df['nota'].apply(lambda x: 'Promotor' if x >= 9 else ('Neutro' if x >= 7 else 'Detrator'))\n"
      ],
      "metadata": {
        "id": "iiq84gs3AAgq"
      },
      "execution_count": 6,
      "outputs": []
    },
    {
      "cell_type": "code",
      "source": [
        "#print(df.groupby('target').count())"
      ],
      "metadata": {
        "id": "5Xw6Rc5_AE-q"
      },
      "execution_count": null,
      "outputs": []
    },
    {
      "cell_type": "markdown",
      "source": [
        "#**ITEMS 2, 3, 4 ,5 E 6 DA LISTA**"
      ],
      "metadata": {
        "id": "2WlcRQLyHkN7"
      }
    },
    {
      "cell_type": "code",
      "source": [
        "\n",
        "# Filtrar para \"Grupo de Produto\" == \"Grupo 2\"\n",
        "grupo_2_df = df[(df['Grupo de Produto'] == 'Grupo 2') & (df['mercado'] == 'BRASIL')]\n",
        "\n",
        "\n",
        "# Definir as regiões com base nos estados\n",
        "regioes = {\n",
        "    \"Norte\": ['AC', 'AP', 'AM', 'PA', 'RO', 'RR', 'TO'],\n",
        "    \"Nordeste\": ['AL', 'BA', 'CE', 'MA', 'PB', 'PE', 'PI', 'RN', 'SE'],\n",
        "    \"Centro-Oeste\": ['DF', 'GO', 'MT', 'MS'],\n",
        "    \"Sul\": ['PR', 'RS', 'SC'],\n",
        "    \"Suldeste\": ['ES', 'MG', 'RJ', 'SP']\n",
        "}\n",
        "\n",
        "# Função para definir a região com base no estado\n",
        "def obter_regiao(estado):\n",
        "    for regiao, estados in regioes.items():\n",
        "        if estado in estados:\n",
        "            return regiao\n",
        "    return 'Outros(não identificado)'  # Para estados fora das regiões definidas\n",
        "\n"
      ],
      "metadata": {
        "id": "0yeM-JKZ6Ye7"
      },
      "execution_count": 26,
      "outputs": []
    },
    {
      "cell_type": "code",
      "source": [
        "# Crie a coluna 'regiao' se ainda não tiver feito\n",
        "grupo_2_df['regiao'] = grupo_2_df['estado'].apply(obter_regiao)\n",
        "\n",
        "# Crie um dicionário para armazenar os DataFrames\n",
        "dfs_por_regiao = {}\n",
        "\n",
        "# Use o groupby para dividir o DataFrame por 'regiao'\n",
        "for regiao, df_regiao in grupo_2_df.groupby('regiao'):\n",
        "    dfs_por_regiao[regiao] = df_regiao\n"
      ],
      "metadata": {
        "id": "bIq1Pdk5yDys",
        "outputId": "de27c252-ead7-45ac-d8d5-a45e7af4f934",
        "colab": {
          "base_uri": "https://localhost:8080/"
        }
      },
      "execution_count": 27,
      "outputs": [
        {
          "output_type": "stream",
          "name": "stderr",
          "text": [
            "<ipython-input-27-40cb2707167c>:2: SettingWithCopyWarning: \n",
            "A value is trying to be set on a copy of a slice from a DataFrame.\n",
            "Try using .loc[row_indexer,col_indexer] = value instead\n",
            "\n",
            "See the caveats in the documentation: https://pandas.pydata.org/pandas-docs/stable/user_guide/indexing.html#returning-a-view-versus-a-copy\n",
            "  grupo_2_df['regiao'] = grupo_2_df['estado'].apply(obter_regiao)\n"
          ]
        }
      ]
    },
    {
      "cell_type": "code",
      "source": [
        "df_norte = dfs_por_regiao['Norte']\n",
        "df_sul = dfs_por_regiao['Sul']\n",
        "df_centro_oeste = dfs_por_regiao['Centro-Oeste']\n",
        "df_nordeste = dfs_por_regiao['Nordeste']\n",
        "df_sudeste = dfs_por_regiao['Suldeste']\n"
      ],
      "metadata": {
        "id": "CnEmhRUT8sd_"
      },
      "execution_count": 28,
      "outputs": []
    },
    {
      "cell_type": "markdown",
      "source": [
        "**TESTE ITEM 7**"
      ],
      "metadata": {
        "id": "TdroNJt2HGBl"
      }
    },
    {
      "cell_type": "code",
      "source": [
        "# Garantir que a coluna 'data_resposta' está no formato datetime no df_norte\n",
        "df_norte['data_resposta'] = pd.to_datetime(df_norte['data_resposta'], dayfirst=True)\n",
        "\n",
        "# Adicionar coluna 'safra' (apenas o ano da data) no df_norte\n",
        "df_filter = df_norte['safra'] = df_norte['data_resposta'].dt.year\n",
        "\n"
      ],
      "metadata": {
        "id": "2slySPRhy8Pl"
      },
      "execution_count": 38,
      "outputs": []
    },
    {
      "cell_type": "code",
      "source": [
        "# Volumetria total por safra\n",
        "df_dg = volumetria_safra = df_norte.groupby('safra').size().reset_index(name='quantidade')\n",
        "volumetria_safra['percentual'] = volumetria_safra['quantidade'] / volumetria_safra['quantidade'].sum() * 100\n",
        "\n",
        "\n"
      ],
      "metadata": {
        "id": "UwlEfFbI07P-"
      },
      "execution_count": 60,
      "outputs": []
    },
    {
      "cell_type": "code",
      "source": [
        "# Volumetria por período de pesquisa e safra\n",
        "volumetria_periodo = df_norte.groupby(['Periodo de Pesquisa', 'safra']).size().reset_index(name='quantidade')"
      ],
      "metadata": {
        "id": "TDXrNXAX-AsZ"
      },
      "execution_count": 55,
      "outputs": []
    },
    {
      "cell_type": "code",
      "source": [
        "# Calcular o percentual com transform\n",
        "volumetria_periodo['percentual'] = volumetria_periodo.groupby('Periodo de Pesquisa')['quantidade'].transform(lambda x: x / x.sum() * 100)\n"
      ],
      "metadata": {
        "id": "hkXojbS8-jr1"
      },
      "execution_count": 57,
      "outputs": []
    },
    {
      "cell_type": "code",
      "source": [
        "\n",
        "# Soma total de safras (verificação)\n",
        "total_safras = volumetria_safra['quantidade'].sum()\n",
        "verificacao_total = len(df_norte) == total_safras"
      ],
      "metadata": {
        "id": "iBaT4GU25HEc"
      },
      "execution_count": 58,
      "outputs": []
    },
    {
      "cell_type": "code",
      "source": [
        "# Resultados\n",
        "print(\"Volumetria por Safra (Total):\\n\", volumetria_safra)\n",
        "print(\"\\nVolumetria por Período de Pesquisa:\\n\", volumetria_periodo)\n",
        "print(f\"\\nVerificação Total: {'Correto' if verificacao_total else 'Incorreto'}\")"
      ],
      "metadata": {
        "colab": {
          "base_uri": "https://localhost:8080/"
        },
        "id": "SKp97Ci-AEjK",
        "outputId": "d457d73d-a591-45a8-ae1a-8aee9f7c84d8"
      },
      "execution_count": 59,
      "outputs": [
        {
          "output_type": "stream",
          "name": "stdout",
          "text": [
            "Volumetria por Safra (Total):\n",
            "    safra  quantidade  percentual\n",
            "0   2022          25   14.880952\n",
            "1   2023          81   48.214286\n",
            "2   2024          62   36.904762\n",
            "\n",
            "Volumetria por Período de Pesquisa:\n",
            "    Periodo de Pesquisa  safra  quantidade  percentual\n",
            "0            12 a 18 M   2022           5   12.820513\n",
            "1            12 a 18 M   2023          20   51.282051\n",
            "2            12 a 18 M   2024          14   35.897436\n",
            "3            18 a 30 M   2022           1    2.702703\n",
            "4            18 a 30 M   2023          29   78.378378\n",
            "5            18 a 30 M   2024           7   18.918919\n",
            "6              3 a 6 M   2022           9   18.367347\n",
            "7              3 a 6 M   2023          16   32.653061\n",
            "8              3 a 6 M   2024          24   48.979592\n",
            "9             6 a 12 M   2022          10   23.255814\n",
            "10            6 a 12 M   2023          16   37.209302\n",
            "11            6 a 12 M   2024          17   39.534884\n",
            "\n",
            "Verificação Total: Correto\n"
          ]
        }
      ]
    },
    {
      "cell_type": "markdown",
      "source": [
        "#CÓDIGO FINAL ITEM 7\n"
      ],
      "metadata": {
        "id": "0d2yrF6BG63I"
      }
    },
    {
      "cell_type": "code",
      "source": [
        "#ITEM 7 DA LISTA\n",
        "\n",
        "# Função para classificar as notas\n",
        "df_norte['target'] = df_norte['nota'].apply(lambda x: 'Promotor' if x >= 9 else ('Neutro' if x >= 7 else 'Detrator'))\n",
        "\n",
        "# Verifique se 'safra' foi criada antes, se não, crie-a:\n",
        "df_norte['data_resposta'] = pd.to_datetime(df_norte['data_resposta'], dayfirst=True)\n",
        "df_norte['safra'] = df_norte['data_resposta'].dt.year\n",
        "\n",
        "# Calcular volumetria por safra e target\n",
        "volumetria_safra_target = df_norte.groupby(['safra', 'target']).size().reset_index(name='quantidade')\n",
        "\n",
        "# Calcular percentuais dentro de cada safra\n",
        "volumetria_safra_target['percentual'] = volumetria_safra_target.groupby('safra')['quantidade'].transform(lambda x: x / x.sum() * 100)\n",
        "\n",
        "# Resultado\n",
        "print(volumetria_safra_target)\n"
      ],
      "metadata": {
        "colab": {
          "base_uri": "https://localhost:8080/"
        },
        "id": "D6V3MHB66llz",
        "outputId": "ae103e98-70e0-432a-db44-58f3d74b8604"
      },
      "execution_count": 61,
      "outputs": [
        {
          "output_type": "stream",
          "name": "stdout",
          "text": [
            "   safra    target  quantidade  percentual\n",
            "0   2022  Detrator           2    8.000000\n",
            "1   2022    Neutro           5   20.000000\n",
            "2   2022  Promotor          18   72.000000\n",
            "3   2023  Detrator           7    8.641975\n",
            "4   2023    Neutro          16   19.753086\n",
            "5   2023  Promotor          58   71.604938\n",
            "6   2024  Detrator           7   11.290323\n",
            "7   2024    Neutro           7   11.290323\n",
            "8   2024  Promotor          48   77.419355\n"
          ]
        }
      ]
    },
    {
      "cell_type": "markdown",
      "source": [
        "#ITEM 9 DA LISTA"
      ],
      "metadata": {
        "id": "ys5XbXqFaBwI"
      }
    },
    {
      "cell_type": "markdown",
      "source": [
        "correlação de spearman, entre a variável nota e as demais variáveis de perguntas"
      ],
      "metadata": {
        "id": "HFVFkd7_krm1"
      }
    },
    {
      "cell_type": "code",
      "source": [
        "import pandas as pd\n",
        "import numpy as np\n",
        "from scipy.stats import spearmanr\n",
        "import seaborn as sns\n",
        "import matplotlib.pyplot as plt\n",
        "\n",
        "# Supondo que 'df' seja o seu DataFrame já filtrado para o grupo de produto e para o mercado BRASIL\n",
        "\n",
        "# Defina as colunas de perguntas com notas (de 0 a 10) em uma lista\n",
        "perguntas = ['capacidade operacional (hectares por hora) (csat)',\n",
        "             'adequação as diversas operações e implementos (csat)',\n",
        "             'facilidade de operação (csat)',\n",
        "             'conforto e ergonomia (csat)',\n",
        "             'disponibilidade e confiabilidade mecânica  (csat)',\n",
        "             'facilidade para realização de manutenções (csat)',\n",
        "             'custo de manutenção (csat)',\n",
        "             'consumo de combustível (litros por hectares) (csat)',\n",
        "             'adaptabilidade as mais diversas condições de trabalho (csat)',\n",
        "             'facilidade de uso do piloto automático (csat)',\n",
        "             'geração e transmissão de dados para gestão da frota (csat)',\n",
        "             'geração e transmissão de dados para gestão agrícola (csat)',\n",
        "             'como você avalia a qualidade e a confiabilidade do seu <modelo> (considere o acabamento e a aparência da sua máquina, falhas, problemas de confiabilidade ou avarias que você possa ter tido)? (csat)',\n",
        "             'agora, considere características específicas do seu <modelo>, como você avalia seu desempenho (csat)',\n",
        "             'como você avalia o conforto e a ergonomia do seu <modelo>  (considere, por exemplo, o conforto do assento, a visibilidade da cabine, a compreensão e o layout dos controles)? (csat)',\n",
        "             '¿está satisfecho con la calidad del producto? (csat)']  # Substitua com os nomes reais das suas colunas de perguntas\n",
        "\n",
        "# Calcule a correlação de Spearman entre a 'nota' e as variáveis de perguntas\n",
        "def calcular_correlacao_spearman(df, perguntas, target_col='nota'):\n",
        "    # Calcula a correlação de Spearman para cada variável de pergunta\n",
        "    correlacoes = {}\n",
        "    for pergunta in perguntas:\n",
        "        corr, _ = spearmanr(df[target_col], df[pergunta], nan_policy='omit')\n",
        "        correlacoes[pergunta] = corr\n",
        "    return correlacoes\n",
        "\n",
        "# Calcular as correlações para o grupo inteiro\n",
        "correlacoes_grupo = calcular_correlacao_spearman(df, perguntas)\n",
        "\n",
        "# Ordenar a lista de correlações do maior para o menor\n",
        "correlacoes_grupo_sorted = sorted(correlacoes_grupo.items(), key=lambda x: abs(x[1]), reverse=True)\n",
        "correlacoes_grupo_sorted_df = pd.DataFrame(correlacoes_grupo_sorted, columns=['Pergunta', 'Correlação'])\n",
        "\n",
        "# Exibir as correlações ordenadas\n",
        "print(correlacoes_grupo_sorted_df)\n"
      ],
      "metadata": {
        "colab": {
          "base_uri": "https://localhost:8080/"
        },
        "id": "5rtKAHe9aI3x",
        "outputId": "febdb8a6-5b40-476e-cec2-624ef46d3c1c"
      },
      "execution_count": 63,
      "outputs": [
        {
          "output_type": "stream",
          "name": "stdout",
          "text": [
            "                                             Pergunta  Correlação\n",
            "0   ¿está satisfecho con la calidad del producto? ...    0.692549\n",
            "1   como você avalia a qualidade e a confiabilidad...    0.675211\n",
            "2   disponibilidade e confiabilidade mecânica  (csat)    0.658972\n",
            "3   adequação as diversas operações e implementos ...    0.634115\n",
            "4   adaptabilidade as mais diversas condições de t...    0.627401\n",
            "5   capacidade operacional (hectares por hora) (csat)    0.624406\n",
            "6   agora, considere características específicas d...    0.613134\n",
            "7                       facilidade de operação (csat)    0.608312\n",
            "8   geração e transmissão de dados para gestão agr...    0.604890\n",
            "9    facilidade para realização de manutenções (csat)    0.600659\n",
            "10  geração e transmissão de dados para gestão da ...    0.599419\n",
            "11                        conforto e ergonomia (csat)    0.554529\n",
            "12      facilidade de uso do piloto automático (csat)    0.535848\n",
            "13                         custo de manutenção (csat)    0.477408\n",
            "14  consumo de combustível (litros por hectares) (...    0.469538\n",
            "15  como você avalia o conforto e a ergonomia do s...    0.448774\n"
          ]
        }
      ]
    },
    {
      "cell_type": "code",
      "source": [
        "# Visualizar as Correlações com Formatação (Cores)\n",
        "# Agora, podemos destacar as correlações fortes, médias e fracas usando cores:\n",
        "\n",
        "#Correlação forte: acima de 0.7 ou abaixo de -0.7 (vermelho)\n",
        "#Correlação média: entre 0.4 e 0.7 ou entre -0.4 e -0.7 (azul)\n",
        "#Correlação fraca: abaixo de 0.4 ou acima de -0.4 (verde)\n",
        "\n",
        "# Função para aplicar as cores conforme a correlação\n",
        "def colorir_correlações(val):\n",
        "    if abs(val) >= 0.7:\n",
        "        color = 'red'  # Forte\n",
        "    elif abs(val) >= 0.4:\n",
        "        color = 'blue'  # Médio\n",
        "    else:\n",
        "        color = 'green'  # Fraco\n",
        "    return f'background-color: {color}'\n",
        "\n",
        "# Criar um DataFrame para aplicar o estilo\n",
        "correlacoes_grupo_sorted_df = correlacoes_grupo_sorted_df.set_index('Pergunta')\n",
        "styled_df = correlacoes_grupo_sorted_df.style.applymap(lambda x: colorir_correlações(x), subset=['Correlação'])\n",
        "\n",
        "# Exibir a tabela estilizada\n",
        "styled_df\n"
      ],
      "metadata": {
        "colab": {
          "base_uri": "https://localhost:8080/",
          "height": 652
        },
        "id": "bheZ_v9JdpCc",
        "outputId": "8ca7ea88-4981-4847-ca95-77ae139dd675"
      },
      "execution_count": 64,
      "outputs": [
        {
          "output_type": "stream",
          "name": "stderr",
          "text": [
            "<ipython-input-64-b92f904ffccc>:20: FutureWarning: Styler.applymap has been deprecated. Use Styler.map instead.\n",
            "  styled_df = correlacoes_grupo_sorted_df.style.applymap(lambda x: colorir_correlações(x), subset=['Correlação'])\n"
          ]
        },
        {
          "output_type": "execute_result",
          "data": {
            "text/plain": [
              "<pandas.io.formats.style.Styler at 0x7b965ca796c0>"
            ],
            "text/html": [
              "<style type=\"text/css\">\n",
              "#T_10a0a_row0_col0, #T_10a0a_row1_col0, #T_10a0a_row2_col0, #T_10a0a_row3_col0, #T_10a0a_row4_col0, #T_10a0a_row5_col0, #T_10a0a_row6_col0, #T_10a0a_row7_col0, #T_10a0a_row8_col0, #T_10a0a_row9_col0, #T_10a0a_row10_col0, #T_10a0a_row11_col0, #T_10a0a_row12_col0, #T_10a0a_row13_col0, #T_10a0a_row14_col0, #T_10a0a_row15_col0 {\n",
              "  background-color: blue;\n",
              "}\n",
              "</style>\n",
              "<table id=\"T_10a0a\" class=\"dataframe\">\n",
              "  <thead>\n",
              "    <tr>\n",
              "      <th class=\"blank level0\" >&nbsp;</th>\n",
              "      <th id=\"T_10a0a_level0_col0\" class=\"col_heading level0 col0\" >Correlação</th>\n",
              "    </tr>\n",
              "    <tr>\n",
              "      <th class=\"index_name level0\" >Pergunta</th>\n",
              "      <th class=\"blank col0\" >&nbsp;</th>\n",
              "    </tr>\n",
              "  </thead>\n",
              "  <tbody>\n",
              "    <tr>\n",
              "      <th id=\"T_10a0a_level0_row0\" class=\"row_heading level0 row0\" >¿está satisfecho con la calidad del producto? (csat)</th>\n",
              "      <td id=\"T_10a0a_row0_col0\" class=\"data row0 col0\" >0.692549</td>\n",
              "    </tr>\n",
              "    <tr>\n",
              "      <th id=\"T_10a0a_level0_row1\" class=\"row_heading level0 row1\" >como você avalia a qualidade e a confiabilidade do seu <modelo> (considere o acabamento e a aparência da sua máquina, falhas, problemas de confiabilidade ou avarias que você possa ter tido)? (csat)</th>\n",
              "      <td id=\"T_10a0a_row1_col0\" class=\"data row1 col0\" >0.675211</td>\n",
              "    </tr>\n",
              "    <tr>\n",
              "      <th id=\"T_10a0a_level0_row2\" class=\"row_heading level0 row2\" >disponibilidade e confiabilidade mecânica  (csat)</th>\n",
              "      <td id=\"T_10a0a_row2_col0\" class=\"data row2 col0\" >0.658972</td>\n",
              "    </tr>\n",
              "    <tr>\n",
              "      <th id=\"T_10a0a_level0_row3\" class=\"row_heading level0 row3\" >adequação as diversas operações e implementos (csat)</th>\n",
              "      <td id=\"T_10a0a_row3_col0\" class=\"data row3 col0\" >0.634115</td>\n",
              "    </tr>\n",
              "    <tr>\n",
              "      <th id=\"T_10a0a_level0_row4\" class=\"row_heading level0 row4\" >adaptabilidade as mais diversas condições de trabalho (csat)</th>\n",
              "      <td id=\"T_10a0a_row4_col0\" class=\"data row4 col0\" >0.627401</td>\n",
              "    </tr>\n",
              "    <tr>\n",
              "      <th id=\"T_10a0a_level0_row5\" class=\"row_heading level0 row5\" >capacidade operacional (hectares por hora) (csat)</th>\n",
              "      <td id=\"T_10a0a_row5_col0\" class=\"data row5 col0\" >0.624406</td>\n",
              "    </tr>\n",
              "    <tr>\n",
              "      <th id=\"T_10a0a_level0_row6\" class=\"row_heading level0 row6\" >agora, considere características específicas do seu <modelo>, como você avalia seu desempenho (csat)</th>\n",
              "      <td id=\"T_10a0a_row6_col0\" class=\"data row6 col0\" >0.613134</td>\n",
              "    </tr>\n",
              "    <tr>\n",
              "      <th id=\"T_10a0a_level0_row7\" class=\"row_heading level0 row7\" >facilidade de operação (csat)</th>\n",
              "      <td id=\"T_10a0a_row7_col0\" class=\"data row7 col0\" >0.608312</td>\n",
              "    </tr>\n",
              "    <tr>\n",
              "      <th id=\"T_10a0a_level0_row8\" class=\"row_heading level0 row8\" >geração e transmissão de dados para gestão agrícola (csat)</th>\n",
              "      <td id=\"T_10a0a_row8_col0\" class=\"data row8 col0\" >0.604890</td>\n",
              "    </tr>\n",
              "    <tr>\n",
              "      <th id=\"T_10a0a_level0_row9\" class=\"row_heading level0 row9\" >facilidade para realização de manutenções (csat)</th>\n",
              "      <td id=\"T_10a0a_row9_col0\" class=\"data row9 col0\" >0.600659</td>\n",
              "    </tr>\n",
              "    <tr>\n",
              "      <th id=\"T_10a0a_level0_row10\" class=\"row_heading level0 row10\" >geração e transmissão de dados para gestão da frota (csat)</th>\n",
              "      <td id=\"T_10a0a_row10_col0\" class=\"data row10 col0\" >0.599419</td>\n",
              "    </tr>\n",
              "    <tr>\n",
              "      <th id=\"T_10a0a_level0_row11\" class=\"row_heading level0 row11\" >conforto e ergonomia (csat)</th>\n",
              "      <td id=\"T_10a0a_row11_col0\" class=\"data row11 col0\" >0.554529</td>\n",
              "    </tr>\n",
              "    <tr>\n",
              "      <th id=\"T_10a0a_level0_row12\" class=\"row_heading level0 row12\" >facilidade de uso do piloto automático (csat)</th>\n",
              "      <td id=\"T_10a0a_row12_col0\" class=\"data row12 col0\" >0.535848</td>\n",
              "    </tr>\n",
              "    <tr>\n",
              "      <th id=\"T_10a0a_level0_row13\" class=\"row_heading level0 row13\" >custo de manutenção (csat)</th>\n",
              "      <td id=\"T_10a0a_row13_col0\" class=\"data row13 col0\" >0.477408</td>\n",
              "    </tr>\n",
              "    <tr>\n",
              "      <th id=\"T_10a0a_level0_row14\" class=\"row_heading level0 row14\" >consumo de combustível (litros por hectares) (csat)</th>\n",
              "      <td id=\"T_10a0a_row14_col0\" class=\"data row14 col0\" >0.469538</td>\n",
              "    </tr>\n",
              "    <tr>\n",
              "      <th id=\"T_10a0a_level0_row15\" class=\"row_heading level0 row15\" >como você avalia o conforto e a ergonomia do seu <modelo>  (considere, por exemplo, o conforto do assento, a visibilidade da cabine, a compreensão e o layout dos controles)? (csat)</th>\n",
              "      <td id=\"T_10a0a_row15_col0\" class=\"data row15 col0\" >0.448774</td>\n",
              "    </tr>\n",
              "  </tbody>\n",
              "</table>\n"
            ]
          },
          "metadata": {},
          "execution_count": 64
        }
      ]
    },
    {
      "cell_type": "markdown",
      "source": [
        "**Calculando as Correlações para Cada Região:**"
      ],
      "metadata": {
        "id": "juCOEq94i_7u"
      }
    },
    {
      "cell_type": "code",
      "source": [
        "# Exemplo para calcular as correlações por região\n",
        "\n",
        "# Dicionário para armazenar as correlações por região\n",
        "correlacoes_por_regiao = {}\n",
        "\n",
        "# Calcular as correlações por região\n",
        "for regiao, df_regiao in {'Norte': df_norte, 'Sul': df_sul, 'Centro-Oeste': df_centro_oeste, 'Nordeste': df_nordeste, 'Sudeste': df_sudeste}.items():\n",
        "    correlacoes_por_regiao[regiao] = calcular_correlacao_spearman(df_regiao, perguntas)\n",
        "\n",
        "# Exibir as correlações por região\n",
        "for regiao, correlacoes in correlacoes_por_regiao.items():\n",
        "    print(f\"Correlação para a região: {regiao}\")\n",
        "    # Ordena as correlações pela magnitude da correlação (do maior para o menor valor absoluto)\n",
        "    correlacoes_sorted = sorted(correlacoes.items(), key=lambda x: abs(x[1]), reverse=True)\n",
        "    print(pd.DataFrame(correlacoes_sorted, columns=['Pergunta', 'Correlação']))\n",
        "    print(\"\\n\")\n",
        "\n"
      ],
      "metadata": {
        "colab": {
          "base_uri": "https://localhost:8080/"
        },
        "id": "yYXNLxYBeV-v",
        "outputId": "6ce22473-7372-4370-e1d1-6548c8c4b844"
      },
      "execution_count": 82,
      "outputs": [
        {
          "output_type": "stream",
          "name": "stdout",
          "text": [
            "Correlação para a região: Norte\n",
            "                                             Pergunta  Correlação\n",
            "0   ¿está satisfecho con la calidad del producto? ...    0.814803\n",
            "1   disponibilidade e confiabilidade mecânica  (csat)    0.721723\n",
            "2   como você avalia a qualidade e a confiabilidad...    0.673533\n",
            "3   adequação as diversas operações e implementos ...    0.670797\n",
            "4   adaptabilidade as mais diversas condições de t...    0.664106\n",
            "5    facilidade para realização de manutenções (csat)    0.644083\n",
            "6                       facilidade de operação (csat)    0.624613\n",
            "7   geração e transmissão de dados para gestão agr...    0.617817\n",
            "8   capacidade operacional (hectares por hora) (csat)    0.611271\n",
            "9   agora, considere características específicas d...    0.608413\n",
            "10  geração e transmissão de dados para gestão da ...    0.597596\n",
            "11                        conforto e ergonomia (csat)    0.583408\n",
            "12                         custo de manutenção (csat)    0.524849\n",
            "13      facilidade de uso do piloto automático (csat)    0.515999\n",
            "14  consumo de combustível (litros por hectares) (...    0.494730\n",
            "15  como você avalia o conforto e a ergonomia do s...    0.483486\n",
            "\n",
            "\n",
            "Correlação para a região: Sul\n",
            "                                             Pergunta  Correlação\n",
            "0   disponibilidade e confiabilidade mecânica  (csat)    0.695719\n",
            "1   ¿está satisfecho con la calidad del producto? ...    0.666146\n",
            "2    facilidade para realização de manutenções (csat)    0.650740\n",
            "3                       facilidade de operação (csat)    0.640025\n",
            "4   adaptabilidade as mais diversas condições de t...    0.621019\n",
            "5   adequação as diversas operações e implementos ...    0.620702\n",
            "6   capacidade operacional (hectares por hora) (csat)    0.618815\n",
            "7   como você avalia a qualidade e a confiabilidad...    0.600043\n",
            "8   agora, considere características específicas d...    0.587081\n",
            "9   geração e transmissão de dados para gestão da ...    0.528696\n",
            "10                        conforto e ergonomia (csat)    0.524022\n",
            "11  geração e transmissão de dados para gestão agr...    0.520252\n",
            "12                         custo de manutenção (csat)    0.508254\n",
            "13      facilidade de uso do piloto automático (csat)    0.422606\n",
            "14  consumo de combustível (litros por hectares) (...    0.418128\n",
            "15  como você avalia o conforto e a ergonomia do s...    0.340331\n",
            "\n",
            "\n",
            "Correlação para a região: Centro-Oeste\n",
            "                                             Pergunta  Correlação\n",
            "0   ¿está satisfecho con la calidad del producto? ...    0.824622\n",
            "1   como você avalia a qualidade e a confiabilidad...    0.717997\n",
            "2   geração e transmissão de dados para gestão agr...    0.680661\n",
            "3   geração e transmissão de dados para gestão da ...    0.659849\n",
            "4   disponibilidade e confiabilidade mecânica  (csat)    0.652838\n",
            "5   capacidade operacional (hectares por hora) (csat)    0.627382\n",
            "6   agora, considere características específicas d...    0.618576\n",
            "7   adaptabilidade as mais diversas condições de t...    0.590601\n",
            "8                       facilidade de operação (csat)    0.589086\n",
            "9   adequação as diversas operações e implementos ...    0.549386\n",
            "10      facilidade de uso do piloto automático (csat)    0.522441\n",
            "11   facilidade para realização de manutenções (csat)    0.507775\n",
            "12                        conforto e ergonomia (csat)    0.501993\n",
            "13  consumo de combustível (litros por hectares) (...    0.453686\n",
            "14  como você avalia o conforto e a ergonomia do s...    0.395498\n",
            "15                         custo de manutenção (csat)    0.388888\n",
            "\n",
            "\n",
            "Correlação para a região: Nordeste\n",
            "                                             Pergunta  Correlação\n",
            "0   adequação as diversas operações e implementos ...    0.739814\n",
            "1    facilidade para realização de manutenções (csat)    0.698253\n",
            "2   adaptabilidade as mais diversas condições de t...    0.680515\n",
            "3   capacidade operacional (hectares por hora) (csat)    0.679852\n",
            "4   disponibilidade e confiabilidade mecânica  (csat)    0.669049\n",
            "5                       facilidade de operação (csat)    0.660049\n",
            "6       facilidade de uso do piloto automático (csat)    0.623286\n",
            "7                         conforto e ergonomia (csat)    0.612225\n",
            "8   como você avalia a qualidade e a confiabilidad...    0.598307\n",
            "9                          custo de manutenção (csat)    0.597270\n",
            "10  agora, considere características específicas d...    0.556446\n",
            "11  consumo de combustível (litros por hectares) (...    0.550241\n",
            "12  ¿está satisfecho con la calidad del producto? ...    0.549789\n",
            "13  geração e transmissão de dados para gestão da ...    0.526266\n",
            "14  geração e transmissão de dados para gestão agr...    0.478048\n",
            "15  como você avalia o conforto e a ergonomia do s...    0.417358\n",
            "\n",
            "\n",
            "Correlação para a região: Sudeste\n",
            "                                             Pergunta  Correlação\n",
            "0   disponibilidade e confiabilidade mecânica  (csat)    0.711304\n",
            "1   capacidade operacional (hectares por hora) (csat)    0.704048\n",
            "2   ¿está satisfecho con la calidad del producto? ...    0.702845\n",
            "3       facilidade de uso do piloto automático (csat)    0.700078\n",
            "4   geração e transmissão de dados para gestão da ...    0.698731\n",
            "5   geração e transmissão de dados para gestão agr...    0.679432\n",
            "6   como você avalia a qualidade e a confiabilidad...    0.662960\n",
            "7                       facilidade de operação (csat)    0.655804\n",
            "8   adequação as diversas operações e implementos ...    0.655113\n",
            "9   adaptabilidade as mais diversas condições de t...    0.640264\n",
            "10   facilidade para realização de manutenções (csat)    0.619122\n",
            "11                        conforto e ergonomia (csat)    0.615234\n",
            "12  agora, considere características específicas d...    0.598142\n",
            "13  consumo de combustível (litros por hectares) (...    0.491677\n",
            "14                         custo de manutenção (csat)    0.453078\n",
            "15  como você avalia o conforto e a ergonomia do s...    0.429064\n",
            "\n",
            "\n"
          ]
        }
      ]
    },
    {
      "cell_type": "code",
      "source": [
        "# Função para aplicar a cor nas correlações\n",
        "def colorir_correlações(val):\n",
        "    if abs(val) >= 0.7:\n",
        "        color = 'red'  # Forte\n",
        "    elif abs(val) >= 0.4:\n",
        "        color = 'blue'  # Médio\n",
        "    else:\n",
        "        color = 'green'  # Fraco\n",
        "    return f'background-color: {color}'\n",
        "\n",
        "# Visualizando as correlações por região com cores\n",
        "for regiao, correlacoes in correlacoes_por_regiao.items():\n",
        "    print(f\"Correlação para a região: {regiao}\")\n",
        "    correlacoes_sorted = sorted(correlacoes.items(), key=lambda x: abs(x[1]), reverse=True)\n",
        "    correlacoes_df = pd.DataFrame(correlacoes_sorted, columns=['Pergunta', 'Correlação'])\n",
        "\n",
        "    # Aplicando a coloração nas correlações\n",
        "    styled_df = correlacoes_df.style.applymap(lambda x: colorir_correlações(x), subset=['Correlação'])\n",
        "\n",
        "    # Exibindo a tabela estilizada\n",
        "    display(styled_df)  # Exibe a tabela no Jupyter ou notebook\n",
        "    print(\"\\n\")\n"
      ],
      "metadata": {
        "colab": {
          "base_uri": "https://localhost:8080/",
          "height": 1000
        },
        "id": "_MBtY5XpjrWo",
        "outputId": "2fc54f2a-fd92-4d0d-f216-6e01119cf4cb"
      },
      "execution_count": 83,
      "outputs": [
        {
          "output_type": "stream",
          "name": "stdout",
          "text": [
            "Correlação para a região: Norte\n"
          ]
        },
        {
          "output_type": "stream",
          "name": "stderr",
          "text": [
            "<ipython-input-83-691b2ce3f226>:18: FutureWarning: Styler.applymap has been deprecated. Use Styler.map instead.\n",
            "  styled_df = correlacoes_df.style.applymap(lambda x: colorir_correlações(x), subset=['Correlação'])\n"
          ]
        },
        {
          "output_type": "display_data",
          "data": {
            "text/plain": [
              "<pandas.io.formats.style.Styler at 0x7b965d6340d0>"
            ],
            "text/html": [
              "<style type=\"text/css\">\n",
              "#T_f65ea_row0_col1, #T_f65ea_row1_col1 {\n",
              "  background-color: red;\n",
              "}\n",
              "#T_f65ea_row2_col1, #T_f65ea_row3_col1, #T_f65ea_row4_col1, #T_f65ea_row5_col1, #T_f65ea_row6_col1, #T_f65ea_row7_col1, #T_f65ea_row8_col1, #T_f65ea_row9_col1, #T_f65ea_row10_col1, #T_f65ea_row11_col1, #T_f65ea_row12_col1, #T_f65ea_row13_col1, #T_f65ea_row14_col1, #T_f65ea_row15_col1 {\n",
              "  background-color: blue;\n",
              "}\n",
              "</style>\n",
              "<table id=\"T_f65ea\" class=\"dataframe\">\n",
              "  <thead>\n",
              "    <tr>\n",
              "      <th class=\"blank level0\" >&nbsp;</th>\n",
              "      <th id=\"T_f65ea_level0_col0\" class=\"col_heading level0 col0\" >Pergunta</th>\n",
              "      <th id=\"T_f65ea_level0_col1\" class=\"col_heading level0 col1\" >Correlação</th>\n",
              "    </tr>\n",
              "  </thead>\n",
              "  <tbody>\n",
              "    <tr>\n",
              "      <th id=\"T_f65ea_level0_row0\" class=\"row_heading level0 row0\" >0</th>\n",
              "      <td id=\"T_f65ea_row0_col0\" class=\"data row0 col0\" >¿está satisfecho con la calidad del producto? (csat)</td>\n",
              "      <td id=\"T_f65ea_row0_col1\" class=\"data row0 col1\" >0.814803</td>\n",
              "    </tr>\n",
              "    <tr>\n",
              "      <th id=\"T_f65ea_level0_row1\" class=\"row_heading level0 row1\" >1</th>\n",
              "      <td id=\"T_f65ea_row1_col0\" class=\"data row1 col0\" >disponibilidade e confiabilidade mecânica  (csat)</td>\n",
              "      <td id=\"T_f65ea_row1_col1\" class=\"data row1 col1\" >0.721723</td>\n",
              "    </tr>\n",
              "    <tr>\n",
              "      <th id=\"T_f65ea_level0_row2\" class=\"row_heading level0 row2\" >2</th>\n",
              "      <td id=\"T_f65ea_row2_col0\" class=\"data row2 col0\" >como você avalia a qualidade e a confiabilidade do seu <modelo> (considere o acabamento e a aparência da sua máquina, falhas, problemas de confiabilidade ou avarias que você possa ter tido)? (csat)</td>\n",
              "      <td id=\"T_f65ea_row2_col1\" class=\"data row2 col1\" >0.673533</td>\n",
              "    </tr>\n",
              "    <tr>\n",
              "      <th id=\"T_f65ea_level0_row3\" class=\"row_heading level0 row3\" >3</th>\n",
              "      <td id=\"T_f65ea_row3_col0\" class=\"data row3 col0\" >adequação as diversas operações e implementos (csat)</td>\n",
              "      <td id=\"T_f65ea_row3_col1\" class=\"data row3 col1\" >0.670797</td>\n",
              "    </tr>\n",
              "    <tr>\n",
              "      <th id=\"T_f65ea_level0_row4\" class=\"row_heading level0 row4\" >4</th>\n",
              "      <td id=\"T_f65ea_row4_col0\" class=\"data row4 col0\" >adaptabilidade as mais diversas condições de trabalho (csat)</td>\n",
              "      <td id=\"T_f65ea_row4_col1\" class=\"data row4 col1\" >0.664106</td>\n",
              "    </tr>\n",
              "    <tr>\n",
              "      <th id=\"T_f65ea_level0_row5\" class=\"row_heading level0 row5\" >5</th>\n",
              "      <td id=\"T_f65ea_row5_col0\" class=\"data row5 col0\" >facilidade para realização de manutenções (csat)</td>\n",
              "      <td id=\"T_f65ea_row5_col1\" class=\"data row5 col1\" >0.644083</td>\n",
              "    </tr>\n",
              "    <tr>\n",
              "      <th id=\"T_f65ea_level0_row6\" class=\"row_heading level0 row6\" >6</th>\n",
              "      <td id=\"T_f65ea_row6_col0\" class=\"data row6 col0\" >facilidade de operação (csat)</td>\n",
              "      <td id=\"T_f65ea_row6_col1\" class=\"data row6 col1\" >0.624613</td>\n",
              "    </tr>\n",
              "    <tr>\n",
              "      <th id=\"T_f65ea_level0_row7\" class=\"row_heading level0 row7\" >7</th>\n",
              "      <td id=\"T_f65ea_row7_col0\" class=\"data row7 col0\" >geração e transmissão de dados para gestão agrícola (csat)</td>\n",
              "      <td id=\"T_f65ea_row7_col1\" class=\"data row7 col1\" >0.617817</td>\n",
              "    </tr>\n",
              "    <tr>\n",
              "      <th id=\"T_f65ea_level0_row8\" class=\"row_heading level0 row8\" >8</th>\n",
              "      <td id=\"T_f65ea_row8_col0\" class=\"data row8 col0\" >capacidade operacional (hectares por hora) (csat)</td>\n",
              "      <td id=\"T_f65ea_row8_col1\" class=\"data row8 col1\" >0.611271</td>\n",
              "    </tr>\n",
              "    <tr>\n",
              "      <th id=\"T_f65ea_level0_row9\" class=\"row_heading level0 row9\" >9</th>\n",
              "      <td id=\"T_f65ea_row9_col0\" class=\"data row9 col0\" >agora, considere características específicas do seu <modelo>, como você avalia seu desempenho (csat)</td>\n",
              "      <td id=\"T_f65ea_row9_col1\" class=\"data row9 col1\" >0.608413</td>\n",
              "    </tr>\n",
              "    <tr>\n",
              "      <th id=\"T_f65ea_level0_row10\" class=\"row_heading level0 row10\" >10</th>\n",
              "      <td id=\"T_f65ea_row10_col0\" class=\"data row10 col0\" >geração e transmissão de dados para gestão da frota (csat)</td>\n",
              "      <td id=\"T_f65ea_row10_col1\" class=\"data row10 col1\" >0.597596</td>\n",
              "    </tr>\n",
              "    <tr>\n",
              "      <th id=\"T_f65ea_level0_row11\" class=\"row_heading level0 row11\" >11</th>\n",
              "      <td id=\"T_f65ea_row11_col0\" class=\"data row11 col0\" >conforto e ergonomia (csat)</td>\n",
              "      <td id=\"T_f65ea_row11_col1\" class=\"data row11 col1\" >0.583408</td>\n",
              "    </tr>\n",
              "    <tr>\n",
              "      <th id=\"T_f65ea_level0_row12\" class=\"row_heading level0 row12\" >12</th>\n",
              "      <td id=\"T_f65ea_row12_col0\" class=\"data row12 col0\" >custo de manutenção (csat)</td>\n",
              "      <td id=\"T_f65ea_row12_col1\" class=\"data row12 col1\" >0.524849</td>\n",
              "    </tr>\n",
              "    <tr>\n",
              "      <th id=\"T_f65ea_level0_row13\" class=\"row_heading level0 row13\" >13</th>\n",
              "      <td id=\"T_f65ea_row13_col0\" class=\"data row13 col0\" >facilidade de uso do piloto automático (csat)</td>\n",
              "      <td id=\"T_f65ea_row13_col1\" class=\"data row13 col1\" >0.515999</td>\n",
              "    </tr>\n",
              "    <tr>\n",
              "      <th id=\"T_f65ea_level0_row14\" class=\"row_heading level0 row14\" >14</th>\n",
              "      <td id=\"T_f65ea_row14_col0\" class=\"data row14 col0\" >consumo de combustível (litros por hectares) (csat)</td>\n",
              "      <td id=\"T_f65ea_row14_col1\" class=\"data row14 col1\" >0.494730</td>\n",
              "    </tr>\n",
              "    <tr>\n",
              "      <th id=\"T_f65ea_level0_row15\" class=\"row_heading level0 row15\" >15</th>\n",
              "      <td id=\"T_f65ea_row15_col0\" class=\"data row15 col0\" >como você avalia o conforto e a ergonomia do seu <modelo>  (considere, por exemplo, o conforto do assento, a visibilidade da cabine, a compreensão e o layout dos controles)? (csat)</td>\n",
              "      <td id=\"T_f65ea_row15_col1\" class=\"data row15 col1\" >0.483486</td>\n",
              "    </tr>\n",
              "  </tbody>\n",
              "</table>\n"
            ]
          },
          "metadata": {}
        },
        {
          "output_type": "stream",
          "name": "stdout",
          "text": [
            "\n",
            "\n",
            "Correlação para a região: Sul\n"
          ]
        },
        {
          "output_type": "stream",
          "name": "stderr",
          "text": [
            "<ipython-input-83-691b2ce3f226>:18: FutureWarning: Styler.applymap has been deprecated. Use Styler.map instead.\n",
            "  styled_df = correlacoes_df.style.applymap(lambda x: colorir_correlações(x), subset=['Correlação'])\n"
          ]
        },
        {
          "output_type": "display_data",
          "data": {
            "text/plain": [
              "<pandas.io.formats.style.Styler at 0x7b965debe5c0>"
            ],
            "text/html": [
              "<style type=\"text/css\">\n",
              "#T_c66fb_row0_col1, #T_c66fb_row1_col1, #T_c66fb_row2_col1, #T_c66fb_row3_col1, #T_c66fb_row4_col1, #T_c66fb_row5_col1, #T_c66fb_row6_col1, #T_c66fb_row7_col1, #T_c66fb_row8_col1, #T_c66fb_row9_col1, #T_c66fb_row10_col1, #T_c66fb_row11_col1, #T_c66fb_row12_col1, #T_c66fb_row13_col1, #T_c66fb_row14_col1 {\n",
              "  background-color: blue;\n",
              "}\n",
              "#T_c66fb_row15_col1 {\n",
              "  background-color: green;\n",
              "}\n",
              "</style>\n",
              "<table id=\"T_c66fb\" class=\"dataframe\">\n",
              "  <thead>\n",
              "    <tr>\n",
              "      <th class=\"blank level0\" >&nbsp;</th>\n",
              "      <th id=\"T_c66fb_level0_col0\" class=\"col_heading level0 col0\" >Pergunta</th>\n",
              "      <th id=\"T_c66fb_level0_col1\" class=\"col_heading level0 col1\" >Correlação</th>\n",
              "    </tr>\n",
              "  </thead>\n",
              "  <tbody>\n",
              "    <tr>\n",
              "      <th id=\"T_c66fb_level0_row0\" class=\"row_heading level0 row0\" >0</th>\n",
              "      <td id=\"T_c66fb_row0_col0\" class=\"data row0 col0\" >disponibilidade e confiabilidade mecânica  (csat)</td>\n",
              "      <td id=\"T_c66fb_row0_col1\" class=\"data row0 col1\" >0.695719</td>\n",
              "    </tr>\n",
              "    <tr>\n",
              "      <th id=\"T_c66fb_level0_row1\" class=\"row_heading level0 row1\" >1</th>\n",
              "      <td id=\"T_c66fb_row1_col0\" class=\"data row1 col0\" >¿está satisfecho con la calidad del producto? (csat)</td>\n",
              "      <td id=\"T_c66fb_row1_col1\" class=\"data row1 col1\" >0.666146</td>\n",
              "    </tr>\n",
              "    <tr>\n",
              "      <th id=\"T_c66fb_level0_row2\" class=\"row_heading level0 row2\" >2</th>\n",
              "      <td id=\"T_c66fb_row2_col0\" class=\"data row2 col0\" >facilidade para realização de manutenções (csat)</td>\n",
              "      <td id=\"T_c66fb_row2_col1\" class=\"data row2 col1\" >0.650740</td>\n",
              "    </tr>\n",
              "    <tr>\n",
              "      <th id=\"T_c66fb_level0_row3\" class=\"row_heading level0 row3\" >3</th>\n",
              "      <td id=\"T_c66fb_row3_col0\" class=\"data row3 col0\" >facilidade de operação (csat)</td>\n",
              "      <td id=\"T_c66fb_row3_col1\" class=\"data row3 col1\" >0.640025</td>\n",
              "    </tr>\n",
              "    <tr>\n",
              "      <th id=\"T_c66fb_level0_row4\" class=\"row_heading level0 row4\" >4</th>\n",
              "      <td id=\"T_c66fb_row4_col0\" class=\"data row4 col0\" >adaptabilidade as mais diversas condições de trabalho (csat)</td>\n",
              "      <td id=\"T_c66fb_row4_col1\" class=\"data row4 col1\" >0.621019</td>\n",
              "    </tr>\n",
              "    <tr>\n",
              "      <th id=\"T_c66fb_level0_row5\" class=\"row_heading level0 row5\" >5</th>\n",
              "      <td id=\"T_c66fb_row5_col0\" class=\"data row5 col0\" >adequação as diversas operações e implementos (csat)</td>\n",
              "      <td id=\"T_c66fb_row5_col1\" class=\"data row5 col1\" >0.620702</td>\n",
              "    </tr>\n",
              "    <tr>\n",
              "      <th id=\"T_c66fb_level0_row6\" class=\"row_heading level0 row6\" >6</th>\n",
              "      <td id=\"T_c66fb_row6_col0\" class=\"data row6 col0\" >capacidade operacional (hectares por hora) (csat)</td>\n",
              "      <td id=\"T_c66fb_row6_col1\" class=\"data row6 col1\" >0.618815</td>\n",
              "    </tr>\n",
              "    <tr>\n",
              "      <th id=\"T_c66fb_level0_row7\" class=\"row_heading level0 row7\" >7</th>\n",
              "      <td id=\"T_c66fb_row7_col0\" class=\"data row7 col0\" >como você avalia a qualidade e a confiabilidade do seu <modelo> (considere o acabamento e a aparência da sua máquina, falhas, problemas de confiabilidade ou avarias que você possa ter tido)? (csat)</td>\n",
              "      <td id=\"T_c66fb_row7_col1\" class=\"data row7 col1\" >0.600043</td>\n",
              "    </tr>\n",
              "    <tr>\n",
              "      <th id=\"T_c66fb_level0_row8\" class=\"row_heading level0 row8\" >8</th>\n",
              "      <td id=\"T_c66fb_row8_col0\" class=\"data row8 col0\" >agora, considere características específicas do seu <modelo>, como você avalia seu desempenho (csat)</td>\n",
              "      <td id=\"T_c66fb_row8_col1\" class=\"data row8 col1\" >0.587081</td>\n",
              "    </tr>\n",
              "    <tr>\n",
              "      <th id=\"T_c66fb_level0_row9\" class=\"row_heading level0 row9\" >9</th>\n",
              "      <td id=\"T_c66fb_row9_col0\" class=\"data row9 col0\" >geração e transmissão de dados para gestão da frota (csat)</td>\n",
              "      <td id=\"T_c66fb_row9_col1\" class=\"data row9 col1\" >0.528696</td>\n",
              "    </tr>\n",
              "    <tr>\n",
              "      <th id=\"T_c66fb_level0_row10\" class=\"row_heading level0 row10\" >10</th>\n",
              "      <td id=\"T_c66fb_row10_col0\" class=\"data row10 col0\" >conforto e ergonomia (csat)</td>\n",
              "      <td id=\"T_c66fb_row10_col1\" class=\"data row10 col1\" >0.524022</td>\n",
              "    </tr>\n",
              "    <tr>\n",
              "      <th id=\"T_c66fb_level0_row11\" class=\"row_heading level0 row11\" >11</th>\n",
              "      <td id=\"T_c66fb_row11_col0\" class=\"data row11 col0\" >geração e transmissão de dados para gestão agrícola (csat)</td>\n",
              "      <td id=\"T_c66fb_row11_col1\" class=\"data row11 col1\" >0.520252</td>\n",
              "    </tr>\n",
              "    <tr>\n",
              "      <th id=\"T_c66fb_level0_row12\" class=\"row_heading level0 row12\" >12</th>\n",
              "      <td id=\"T_c66fb_row12_col0\" class=\"data row12 col0\" >custo de manutenção (csat)</td>\n",
              "      <td id=\"T_c66fb_row12_col1\" class=\"data row12 col1\" >0.508254</td>\n",
              "    </tr>\n",
              "    <tr>\n",
              "      <th id=\"T_c66fb_level0_row13\" class=\"row_heading level0 row13\" >13</th>\n",
              "      <td id=\"T_c66fb_row13_col0\" class=\"data row13 col0\" >facilidade de uso do piloto automático (csat)</td>\n",
              "      <td id=\"T_c66fb_row13_col1\" class=\"data row13 col1\" >0.422606</td>\n",
              "    </tr>\n",
              "    <tr>\n",
              "      <th id=\"T_c66fb_level0_row14\" class=\"row_heading level0 row14\" >14</th>\n",
              "      <td id=\"T_c66fb_row14_col0\" class=\"data row14 col0\" >consumo de combustível (litros por hectares) (csat)</td>\n",
              "      <td id=\"T_c66fb_row14_col1\" class=\"data row14 col1\" >0.418128</td>\n",
              "    </tr>\n",
              "    <tr>\n",
              "      <th id=\"T_c66fb_level0_row15\" class=\"row_heading level0 row15\" >15</th>\n",
              "      <td id=\"T_c66fb_row15_col0\" class=\"data row15 col0\" >como você avalia o conforto e a ergonomia do seu <modelo>  (considere, por exemplo, o conforto do assento, a visibilidade da cabine, a compreensão e o layout dos controles)? (csat)</td>\n",
              "      <td id=\"T_c66fb_row15_col1\" class=\"data row15 col1\" >0.340331</td>\n",
              "    </tr>\n",
              "  </tbody>\n",
              "</table>\n"
            ]
          },
          "metadata": {}
        },
        {
          "output_type": "stream",
          "name": "stdout",
          "text": [
            "\n",
            "\n",
            "Correlação para a região: Centro-Oeste\n"
          ]
        },
        {
          "output_type": "stream",
          "name": "stderr",
          "text": [
            "<ipython-input-83-691b2ce3f226>:18: FutureWarning: Styler.applymap has been deprecated. Use Styler.map instead.\n",
            "  styled_df = correlacoes_df.style.applymap(lambda x: colorir_correlações(x), subset=['Correlação'])\n"
          ]
        },
        {
          "output_type": "display_data",
          "data": {
            "text/plain": [
              "<pandas.io.formats.style.Styler at 0x7b965debda80>"
            ],
            "text/html": [
              "<style type=\"text/css\">\n",
              "#T_da534_row0_col1, #T_da534_row1_col1 {\n",
              "  background-color: red;\n",
              "}\n",
              "#T_da534_row2_col1, #T_da534_row3_col1, #T_da534_row4_col1, #T_da534_row5_col1, #T_da534_row6_col1, #T_da534_row7_col1, #T_da534_row8_col1, #T_da534_row9_col1, #T_da534_row10_col1, #T_da534_row11_col1, #T_da534_row12_col1, #T_da534_row13_col1 {\n",
              "  background-color: blue;\n",
              "}\n",
              "#T_da534_row14_col1, #T_da534_row15_col1 {\n",
              "  background-color: green;\n",
              "}\n",
              "</style>\n",
              "<table id=\"T_da534\" class=\"dataframe\">\n",
              "  <thead>\n",
              "    <tr>\n",
              "      <th class=\"blank level0\" >&nbsp;</th>\n",
              "      <th id=\"T_da534_level0_col0\" class=\"col_heading level0 col0\" >Pergunta</th>\n",
              "      <th id=\"T_da534_level0_col1\" class=\"col_heading level0 col1\" >Correlação</th>\n",
              "    </tr>\n",
              "  </thead>\n",
              "  <tbody>\n",
              "    <tr>\n",
              "      <th id=\"T_da534_level0_row0\" class=\"row_heading level0 row0\" >0</th>\n",
              "      <td id=\"T_da534_row0_col0\" class=\"data row0 col0\" >¿está satisfecho con la calidad del producto? (csat)</td>\n",
              "      <td id=\"T_da534_row0_col1\" class=\"data row0 col1\" >0.824622</td>\n",
              "    </tr>\n",
              "    <tr>\n",
              "      <th id=\"T_da534_level0_row1\" class=\"row_heading level0 row1\" >1</th>\n",
              "      <td id=\"T_da534_row1_col0\" class=\"data row1 col0\" >como você avalia a qualidade e a confiabilidade do seu <modelo> (considere o acabamento e a aparência da sua máquina, falhas, problemas de confiabilidade ou avarias que você possa ter tido)? (csat)</td>\n",
              "      <td id=\"T_da534_row1_col1\" class=\"data row1 col1\" >0.717997</td>\n",
              "    </tr>\n",
              "    <tr>\n",
              "      <th id=\"T_da534_level0_row2\" class=\"row_heading level0 row2\" >2</th>\n",
              "      <td id=\"T_da534_row2_col0\" class=\"data row2 col0\" >geração e transmissão de dados para gestão agrícola (csat)</td>\n",
              "      <td id=\"T_da534_row2_col1\" class=\"data row2 col1\" >0.680661</td>\n",
              "    </tr>\n",
              "    <tr>\n",
              "      <th id=\"T_da534_level0_row3\" class=\"row_heading level0 row3\" >3</th>\n",
              "      <td id=\"T_da534_row3_col0\" class=\"data row3 col0\" >geração e transmissão de dados para gestão da frota (csat)</td>\n",
              "      <td id=\"T_da534_row3_col1\" class=\"data row3 col1\" >0.659849</td>\n",
              "    </tr>\n",
              "    <tr>\n",
              "      <th id=\"T_da534_level0_row4\" class=\"row_heading level0 row4\" >4</th>\n",
              "      <td id=\"T_da534_row4_col0\" class=\"data row4 col0\" >disponibilidade e confiabilidade mecânica  (csat)</td>\n",
              "      <td id=\"T_da534_row4_col1\" class=\"data row4 col1\" >0.652838</td>\n",
              "    </tr>\n",
              "    <tr>\n",
              "      <th id=\"T_da534_level0_row5\" class=\"row_heading level0 row5\" >5</th>\n",
              "      <td id=\"T_da534_row5_col0\" class=\"data row5 col0\" >capacidade operacional (hectares por hora) (csat)</td>\n",
              "      <td id=\"T_da534_row5_col1\" class=\"data row5 col1\" >0.627382</td>\n",
              "    </tr>\n",
              "    <tr>\n",
              "      <th id=\"T_da534_level0_row6\" class=\"row_heading level0 row6\" >6</th>\n",
              "      <td id=\"T_da534_row6_col0\" class=\"data row6 col0\" >agora, considere características específicas do seu <modelo>, como você avalia seu desempenho (csat)</td>\n",
              "      <td id=\"T_da534_row6_col1\" class=\"data row6 col1\" >0.618576</td>\n",
              "    </tr>\n",
              "    <tr>\n",
              "      <th id=\"T_da534_level0_row7\" class=\"row_heading level0 row7\" >7</th>\n",
              "      <td id=\"T_da534_row7_col0\" class=\"data row7 col0\" >adaptabilidade as mais diversas condições de trabalho (csat)</td>\n",
              "      <td id=\"T_da534_row7_col1\" class=\"data row7 col1\" >0.590601</td>\n",
              "    </tr>\n",
              "    <tr>\n",
              "      <th id=\"T_da534_level0_row8\" class=\"row_heading level0 row8\" >8</th>\n",
              "      <td id=\"T_da534_row8_col0\" class=\"data row8 col0\" >facilidade de operação (csat)</td>\n",
              "      <td id=\"T_da534_row8_col1\" class=\"data row8 col1\" >0.589086</td>\n",
              "    </tr>\n",
              "    <tr>\n",
              "      <th id=\"T_da534_level0_row9\" class=\"row_heading level0 row9\" >9</th>\n",
              "      <td id=\"T_da534_row9_col0\" class=\"data row9 col0\" >adequação as diversas operações e implementos (csat)</td>\n",
              "      <td id=\"T_da534_row9_col1\" class=\"data row9 col1\" >0.549386</td>\n",
              "    </tr>\n",
              "    <tr>\n",
              "      <th id=\"T_da534_level0_row10\" class=\"row_heading level0 row10\" >10</th>\n",
              "      <td id=\"T_da534_row10_col0\" class=\"data row10 col0\" >facilidade de uso do piloto automático (csat)</td>\n",
              "      <td id=\"T_da534_row10_col1\" class=\"data row10 col1\" >0.522441</td>\n",
              "    </tr>\n",
              "    <tr>\n",
              "      <th id=\"T_da534_level0_row11\" class=\"row_heading level0 row11\" >11</th>\n",
              "      <td id=\"T_da534_row11_col0\" class=\"data row11 col0\" >facilidade para realização de manutenções (csat)</td>\n",
              "      <td id=\"T_da534_row11_col1\" class=\"data row11 col1\" >0.507775</td>\n",
              "    </tr>\n",
              "    <tr>\n",
              "      <th id=\"T_da534_level0_row12\" class=\"row_heading level0 row12\" >12</th>\n",
              "      <td id=\"T_da534_row12_col0\" class=\"data row12 col0\" >conforto e ergonomia (csat)</td>\n",
              "      <td id=\"T_da534_row12_col1\" class=\"data row12 col1\" >0.501993</td>\n",
              "    </tr>\n",
              "    <tr>\n",
              "      <th id=\"T_da534_level0_row13\" class=\"row_heading level0 row13\" >13</th>\n",
              "      <td id=\"T_da534_row13_col0\" class=\"data row13 col0\" >consumo de combustível (litros por hectares) (csat)</td>\n",
              "      <td id=\"T_da534_row13_col1\" class=\"data row13 col1\" >0.453686</td>\n",
              "    </tr>\n",
              "    <tr>\n",
              "      <th id=\"T_da534_level0_row14\" class=\"row_heading level0 row14\" >14</th>\n",
              "      <td id=\"T_da534_row14_col0\" class=\"data row14 col0\" >como você avalia o conforto e a ergonomia do seu <modelo>  (considere, por exemplo, o conforto do assento, a visibilidade da cabine, a compreensão e o layout dos controles)? (csat)</td>\n",
              "      <td id=\"T_da534_row14_col1\" class=\"data row14 col1\" >0.395498</td>\n",
              "    </tr>\n",
              "    <tr>\n",
              "      <th id=\"T_da534_level0_row15\" class=\"row_heading level0 row15\" >15</th>\n",
              "      <td id=\"T_da534_row15_col0\" class=\"data row15 col0\" >custo de manutenção (csat)</td>\n",
              "      <td id=\"T_da534_row15_col1\" class=\"data row15 col1\" >0.388888</td>\n",
              "    </tr>\n",
              "  </tbody>\n",
              "</table>\n"
            ]
          },
          "metadata": {}
        },
        {
          "output_type": "stream",
          "name": "stdout",
          "text": [
            "\n",
            "\n",
            "Correlação para a região: Nordeste\n"
          ]
        },
        {
          "output_type": "stream",
          "name": "stderr",
          "text": [
            "<ipython-input-83-691b2ce3f226>:18: FutureWarning: Styler.applymap has been deprecated. Use Styler.map instead.\n",
            "  styled_df = correlacoes_df.style.applymap(lambda x: colorir_correlações(x), subset=['Correlação'])\n"
          ]
        },
        {
          "output_type": "display_data",
          "data": {
            "text/plain": [
              "<pandas.io.formats.style.Styler at 0x7b965debd510>"
            ],
            "text/html": [
              "<style type=\"text/css\">\n",
              "#T_f6e25_row0_col1 {\n",
              "  background-color: red;\n",
              "}\n",
              "#T_f6e25_row1_col1, #T_f6e25_row2_col1, #T_f6e25_row3_col1, #T_f6e25_row4_col1, #T_f6e25_row5_col1, #T_f6e25_row6_col1, #T_f6e25_row7_col1, #T_f6e25_row8_col1, #T_f6e25_row9_col1, #T_f6e25_row10_col1, #T_f6e25_row11_col1, #T_f6e25_row12_col1, #T_f6e25_row13_col1, #T_f6e25_row14_col1, #T_f6e25_row15_col1 {\n",
              "  background-color: blue;\n",
              "}\n",
              "</style>\n",
              "<table id=\"T_f6e25\" class=\"dataframe\">\n",
              "  <thead>\n",
              "    <tr>\n",
              "      <th class=\"blank level0\" >&nbsp;</th>\n",
              "      <th id=\"T_f6e25_level0_col0\" class=\"col_heading level0 col0\" >Pergunta</th>\n",
              "      <th id=\"T_f6e25_level0_col1\" class=\"col_heading level0 col1\" >Correlação</th>\n",
              "    </tr>\n",
              "  </thead>\n",
              "  <tbody>\n",
              "    <tr>\n",
              "      <th id=\"T_f6e25_level0_row0\" class=\"row_heading level0 row0\" >0</th>\n",
              "      <td id=\"T_f6e25_row0_col0\" class=\"data row0 col0\" >adequação as diversas operações e implementos (csat)</td>\n",
              "      <td id=\"T_f6e25_row0_col1\" class=\"data row0 col1\" >0.739814</td>\n",
              "    </tr>\n",
              "    <tr>\n",
              "      <th id=\"T_f6e25_level0_row1\" class=\"row_heading level0 row1\" >1</th>\n",
              "      <td id=\"T_f6e25_row1_col0\" class=\"data row1 col0\" >facilidade para realização de manutenções (csat)</td>\n",
              "      <td id=\"T_f6e25_row1_col1\" class=\"data row1 col1\" >0.698253</td>\n",
              "    </tr>\n",
              "    <tr>\n",
              "      <th id=\"T_f6e25_level0_row2\" class=\"row_heading level0 row2\" >2</th>\n",
              "      <td id=\"T_f6e25_row2_col0\" class=\"data row2 col0\" >adaptabilidade as mais diversas condições de trabalho (csat)</td>\n",
              "      <td id=\"T_f6e25_row2_col1\" class=\"data row2 col1\" >0.680515</td>\n",
              "    </tr>\n",
              "    <tr>\n",
              "      <th id=\"T_f6e25_level0_row3\" class=\"row_heading level0 row3\" >3</th>\n",
              "      <td id=\"T_f6e25_row3_col0\" class=\"data row3 col0\" >capacidade operacional (hectares por hora) (csat)</td>\n",
              "      <td id=\"T_f6e25_row3_col1\" class=\"data row3 col1\" >0.679852</td>\n",
              "    </tr>\n",
              "    <tr>\n",
              "      <th id=\"T_f6e25_level0_row4\" class=\"row_heading level0 row4\" >4</th>\n",
              "      <td id=\"T_f6e25_row4_col0\" class=\"data row4 col0\" >disponibilidade e confiabilidade mecânica  (csat)</td>\n",
              "      <td id=\"T_f6e25_row4_col1\" class=\"data row4 col1\" >0.669049</td>\n",
              "    </tr>\n",
              "    <tr>\n",
              "      <th id=\"T_f6e25_level0_row5\" class=\"row_heading level0 row5\" >5</th>\n",
              "      <td id=\"T_f6e25_row5_col0\" class=\"data row5 col0\" >facilidade de operação (csat)</td>\n",
              "      <td id=\"T_f6e25_row5_col1\" class=\"data row5 col1\" >0.660049</td>\n",
              "    </tr>\n",
              "    <tr>\n",
              "      <th id=\"T_f6e25_level0_row6\" class=\"row_heading level0 row6\" >6</th>\n",
              "      <td id=\"T_f6e25_row6_col0\" class=\"data row6 col0\" >facilidade de uso do piloto automático (csat)</td>\n",
              "      <td id=\"T_f6e25_row6_col1\" class=\"data row6 col1\" >0.623286</td>\n",
              "    </tr>\n",
              "    <tr>\n",
              "      <th id=\"T_f6e25_level0_row7\" class=\"row_heading level0 row7\" >7</th>\n",
              "      <td id=\"T_f6e25_row7_col0\" class=\"data row7 col0\" >conforto e ergonomia (csat)</td>\n",
              "      <td id=\"T_f6e25_row7_col1\" class=\"data row7 col1\" >0.612225</td>\n",
              "    </tr>\n",
              "    <tr>\n",
              "      <th id=\"T_f6e25_level0_row8\" class=\"row_heading level0 row8\" >8</th>\n",
              "      <td id=\"T_f6e25_row8_col0\" class=\"data row8 col0\" >como você avalia a qualidade e a confiabilidade do seu <modelo> (considere o acabamento e a aparência da sua máquina, falhas, problemas de confiabilidade ou avarias que você possa ter tido)? (csat)</td>\n",
              "      <td id=\"T_f6e25_row8_col1\" class=\"data row8 col1\" >0.598307</td>\n",
              "    </tr>\n",
              "    <tr>\n",
              "      <th id=\"T_f6e25_level0_row9\" class=\"row_heading level0 row9\" >9</th>\n",
              "      <td id=\"T_f6e25_row9_col0\" class=\"data row9 col0\" >custo de manutenção (csat)</td>\n",
              "      <td id=\"T_f6e25_row9_col1\" class=\"data row9 col1\" >0.597270</td>\n",
              "    </tr>\n",
              "    <tr>\n",
              "      <th id=\"T_f6e25_level0_row10\" class=\"row_heading level0 row10\" >10</th>\n",
              "      <td id=\"T_f6e25_row10_col0\" class=\"data row10 col0\" >agora, considere características específicas do seu <modelo>, como você avalia seu desempenho (csat)</td>\n",
              "      <td id=\"T_f6e25_row10_col1\" class=\"data row10 col1\" >0.556446</td>\n",
              "    </tr>\n",
              "    <tr>\n",
              "      <th id=\"T_f6e25_level0_row11\" class=\"row_heading level0 row11\" >11</th>\n",
              "      <td id=\"T_f6e25_row11_col0\" class=\"data row11 col0\" >consumo de combustível (litros por hectares) (csat)</td>\n",
              "      <td id=\"T_f6e25_row11_col1\" class=\"data row11 col1\" >0.550241</td>\n",
              "    </tr>\n",
              "    <tr>\n",
              "      <th id=\"T_f6e25_level0_row12\" class=\"row_heading level0 row12\" >12</th>\n",
              "      <td id=\"T_f6e25_row12_col0\" class=\"data row12 col0\" >¿está satisfecho con la calidad del producto? (csat)</td>\n",
              "      <td id=\"T_f6e25_row12_col1\" class=\"data row12 col1\" >0.549789</td>\n",
              "    </tr>\n",
              "    <tr>\n",
              "      <th id=\"T_f6e25_level0_row13\" class=\"row_heading level0 row13\" >13</th>\n",
              "      <td id=\"T_f6e25_row13_col0\" class=\"data row13 col0\" >geração e transmissão de dados para gestão da frota (csat)</td>\n",
              "      <td id=\"T_f6e25_row13_col1\" class=\"data row13 col1\" >0.526266</td>\n",
              "    </tr>\n",
              "    <tr>\n",
              "      <th id=\"T_f6e25_level0_row14\" class=\"row_heading level0 row14\" >14</th>\n",
              "      <td id=\"T_f6e25_row14_col0\" class=\"data row14 col0\" >geração e transmissão de dados para gestão agrícola (csat)</td>\n",
              "      <td id=\"T_f6e25_row14_col1\" class=\"data row14 col1\" >0.478048</td>\n",
              "    </tr>\n",
              "    <tr>\n",
              "      <th id=\"T_f6e25_level0_row15\" class=\"row_heading level0 row15\" >15</th>\n",
              "      <td id=\"T_f6e25_row15_col0\" class=\"data row15 col0\" >como você avalia o conforto e a ergonomia do seu <modelo>  (considere, por exemplo, o conforto do assento, a visibilidade da cabine, a compreensão e o layout dos controles)? (csat)</td>\n",
              "      <td id=\"T_f6e25_row15_col1\" class=\"data row15 col1\" >0.417358</td>\n",
              "    </tr>\n",
              "  </tbody>\n",
              "</table>\n"
            ]
          },
          "metadata": {}
        },
        {
          "output_type": "stream",
          "name": "stdout",
          "text": [
            "\n",
            "\n",
            "Correlação para a região: Sudeste\n"
          ]
        },
        {
          "output_type": "stream",
          "name": "stderr",
          "text": [
            "<ipython-input-83-691b2ce3f226>:18: FutureWarning: Styler.applymap has been deprecated. Use Styler.map instead.\n",
            "  styled_df = correlacoes_df.style.applymap(lambda x: colorir_correlações(x), subset=['Correlação'])\n"
          ]
        },
        {
          "output_type": "display_data",
          "data": {
            "text/plain": [
              "<pandas.io.formats.style.Styler at 0x7b965d634e80>"
            ],
            "text/html": [
              "<style type=\"text/css\">\n",
              "#T_3bd93_row0_col1, #T_3bd93_row1_col1, #T_3bd93_row2_col1, #T_3bd93_row3_col1 {\n",
              "  background-color: red;\n",
              "}\n",
              "#T_3bd93_row4_col1, #T_3bd93_row5_col1, #T_3bd93_row6_col1, #T_3bd93_row7_col1, #T_3bd93_row8_col1, #T_3bd93_row9_col1, #T_3bd93_row10_col1, #T_3bd93_row11_col1, #T_3bd93_row12_col1, #T_3bd93_row13_col1, #T_3bd93_row14_col1, #T_3bd93_row15_col1 {\n",
              "  background-color: blue;\n",
              "}\n",
              "</style>\n",
              "<table id=\"T_3bd93\" class=\"dataframe\">\n",
              "  <thead>\n",
              "    <tr>\n",
              "      <th class=\"blank level0\" >&nbsp;</th>\n",
              "      <th id=\"T_3bd93_level0_col0\" class=\"col_heading level0 col0\" >Pergunta</th>\n",
              "      <th id=\"T_3bd93_level0_col1\" class=\"col_heading level0 col1\" >Correlação</th>\n",
              "    </tr>\n",
              "  </thead>\n",
              "  <tbody>\n",
              "    <tr>\n",
              "      <th id=\"T_3bd93_level0_row0\" class=\"row_heading level0 row0\" >0</th>\n",
              "      <td id=\"T_3bd93_row0_col0\" class=\"data row0 col0\" >disponibilidade e confiabilidade mecânica  (csat)</td>\n",
              "      <td id=\"T_3bd93_row0_col1\" class=\"data row0 col1\" >0.711304</td>\n",
              "    </tr>\n",
              "    <tr>\n",
              "      <th id=\"T_3bd93_level0_row1\" class=\"row_heading level0 row1\" >1</th>\n",
              "      <td id=\"T_3bd93_row1_col0\" class=\"data row1 col0\" >capacidade operacional (hectares por hora) (csat)</td>\n",
              "      <td id=\"T_3bd93_row1_col1\" class=\"data row1 col1\" >0.704048</td>\n",
              "    </tr>\n",
              "    <tr>\n",
              "      <th id=\"T_3bd93_level0_row2\" class=\"row_heading level0 row2\" >2</th>\n",
              "      <td id=\"T_3bd93_row2_col0\" class=\"data row2 col0\" >¿está satisfecho con la calidad del producto? (csat)</td>\n",
              "      <td id=\"T_3bd93_row2_col1\" class=\"data row2 col1\" >0.702845</td>\n",
              "    </tr>\n",
              "    <tr>\n",
              "      <th id=\"T_3bd93_level0_row3\" class=\"row_heading level0 row3\" >3</th>\n",
              "      <td id=\"T_3bd93_row3_col0\" class=\"data row3 col0\" >facilidade de uso do piloto automático (csat)</td>\n",
              "      <td id=\"T_3bd93_row3_col1\" class=\"data row3 col1\" >0.700078</td>\n",
              "    </tr>\n",
              "    <tr>\n",
              "      <th id=\"T_3bd93_level0_row4\" class=\"row_heading level0 row4\" >4</th>\n",
              "      <td id=\"T_3bd93_row4_col0\" class=\"data row4 col0\" >geração e transmissão de dados para gestão da frota (csat)</td>\n",
              "      <td id=\"T_3bd93_row4_col1\" class=\"data row4 col1\" >0.698731</td>\n",
              "    </tr>\n",
              "    <tr>\n",
              "      <th id=\"T_3bd93_level0_row5\" class=\"row_heading level0 row5\" >5</th>\n",
              "      <td id=\"T_3bd93_row5_col0\" class=\"data row5 col0\" >geração e transmissão de dados para gestão agrícola (csat)</td>\n",
              "      <td id=\"T_3bd93_row5_col1\" class=\"data row5 col1\" >0.679432</td>\n",
              "    </tr>\n",
              "    <tr>\n",
              "      <th id=\"T_3bd93_level0_row6\" class=\"row_heading level0 row6\" >6</th>\n",
              "      <td id=\"T_3bd93_row6_col0\" class=\"data row6 col0\" >como você avalia a qualidade e a confiabilidade do seu <modelo> (considere o acabamento e a aparência da sua máquina, falhas, problemas de confiabilidade ou avarias que você possa ter tido)? (csat)</td>\n",
              "      <td id=\"T_3bd93_row6_col1\" class=\"data row6 col1\" >0.662960</td>\n",
              "    </tr>\n",
              "    <tr>\n",
              "      <th id=\"T_3bd93_level0_row7\" class=\"row_heading level0 row7\" >7</th>\n",
              "      <td id=\"T_3bd93_row7_col0\" class=\"data row7 col0\" >facilidade de operação (csat)</td>\n",
              "      <td id=\"T_3bd93_row7_col1\" class=\"data row7 col1\" >0.655804</td>\n",
              "    </tr>\n",
              "    <tr>\n",
              "      <th id=\"T_3bd93_level0_row8\" class=\"row_heading level0 row8\" >8</th>\n",
              "      <td id=\"T_3bd93_row8_col0\" class=\"data row8 col0\" >adequação as diversas operações e implementos (csat)</td>\n",
              "      <td id=\"T_3bd93_row8_col1\" class=\"data row8 col1\" >0.655113</td>\n",
              "    </tr>\n",
              "    <tr>\n",
              "      <th id=\"T_3bd93_level0_row9\" class=\"row_heading level0 row9\" >9</th>\n",
              "      <td id=\"T_3bd93_row9_col0\" class=\"data row9 col0\" >adaptabilidade as mais diversas condições de trabalho (csat)</td>\n",
              "      <td id=\"T_3bd93_row9_col1\" class=\"data row9 col1\" >0.640264</td>\n",
              "    </tr>\n",
              "    <tr>\n",
              "      <th id=\"T_3bd93_level0_row10\" class=\"row_heading level0 row10\" >10</th>\n",
              "      <td id=\"T_3bd93_row10_col0\" class=\"data row10 col0\" >facilidade para realização de manutenções (csat)</td>\n",
              "      <td id=\"T_3bd93_row10_col1\" class=\"data row10 col1\" >0.619122</td>\n",
              "    </tr>\n",
              "    <tr>\n",
              "      <th id=\"T_3bd93_level0_row11\" class=\"row_heading level0 row11\" >11</th>\n",
              "      <td id=\"T_3bd93_row11_col0\" class=\"data row11 col0\" >conforto e ergonomia (csat)</td>\n",
              "      <td id=\"T_3bd93_row11_col1\" class=\"data row11 col1\" >0.615234</td>\n",
              "    </tr>\n",
              "    <tr>\n",
              "      <th id=\"T_3bd93_level0_row12\" class=\"row_heading level0 row12\" >12</th>\n",
              "      <td id=\"T_3bd93_row12_col0\" class=\"data row12 col0\" >agora, considere características específicas do seu <modelo>, como você avalia seu desempenho (csat)</td>\n",
              "      <td id=\"T_3bd93_row12_col1\" class=\"data row12 col1\" >0.598142</td>\n",
              "    </tr>\n",
              "    <tr>\n",
              "      <th id=\"T_3bd93_level0_row13\" class=\"row_heading level0 row13\" >13</th>\n",
              "      <td id=\"T_3bd93_row13_col0\" class=\"data row13 col0\" >consumo de combustível (litros por hectares) (csat)</td>\n",
              "      <td id=\"T_3bd93_row13_col1\" class=\"data row13 col1\" >0.491677</td>\n",
              "    </tr>\n",
              "    <tr>\n",
              "      <th id=\"T_3bd93_level0_row14\" class=\"row_heading level0 row14\" >14</th>\n",
              "      <td id=\"T_3bd93_row14_col0\" class=\"data row14 col0\" >custo de manutenção (csat)</td>\n",
              "      <td id=\"T_3bd93_row14_col1\" class=\"data row14 col1\" >0.453078</td>\n",
              "    </tr>\n",
              "    <tr>\n",
              "      <th id=\"T_3bd93_level0_row15\" class=\"row_heading level0 row15\" >15</th>\n",
              "      <td id=\"T_3bd93_row15_col0\" class=\"data row15 col0\" >como você avalia o conforto e a ergonomia do seu <modelo>  (considere, por exemplo, o conforto do assento, a visibilidade da cabine, a compreensão e o layout dos controles)? (csat)</td>\n",
              "      <td id=\"T_3bd93_row15_col1\" class=\"data row15 col1\" >0.429064</td>\n",
              "    </tr>\n",
              "  </tbody>\n",
              "</table>\n"
            ]
          },
          "metadata": {}
        },
        {
          "output_type": "stream",
          "name": "stdout",
          "text": [
            "\n",
            "\n"
          ]
        }
      ]
    },
    {
      "cell_type": "markdown",
      "source": [
        "-->"
      ],
      "metadata": {
        "id": "L2myGKIBlq95"
      }
    },
    {
      "cell_type": "markdown",
      "source": [
        "Apresentar também a lista de correlações Safrada, uma lista por safra, replicando o trabalho para cada região e período de pesquisa."
      ],
      "metadata": {
        "id": "Mw1bCkxDlkgQ"
      }
    },
    {
      "cell_type": "code",
      "source": [
        "# Função para calcular a correlação de Spearman para cada safra\n",
        "def calcular_correlacao_safra(df, perguntas, target_col='nota'):\n",
        "    correlacoes = {}\n",
        "    for pergunta in perguntas:\n",
        "        corr, _ = spearmanr(df[target_col], df[pergunta], nan_policy='omit')\n",
        "        correlacoes[pergunta] = corr\n",
        "    return correlacoes\n"
      ],
      "metadata": {
        "id": "HufAX1AGlmdG"
      },
      "execution_count": 84,
      "outputs": []
    },
    {
      "cell_type": "markdown",
      "source": [
        "Verificando a correlação de Spearman entre quantidade e percentual"
      ],
      "metadata": {
        "id": "OVMbyF8spLzW"
      }
    },
    {
      "cell_type": "code",
      "source": [
        "from scipy.stats import spearmanr\n",
        "\n",
        "# Função para calcular correlação de Spearman\n",
        "def calcular_correlacao_safra_target(df, col1, col2):\n",
        "    corr, _ = spearmanr(df[col1], df[col2], nan_policy='omit')\n",
        "    return corr\n",
        "\n",
        "# Dicionário para armazenar as correlações por safra\n",
        "correlacoes_por_safra_target = {}\n",
        "\n",
        "# Calculando a correlação entre 'quantidade' e 'percentual' por safra\n",
        "for safra, df_safra in volumetria_safra_target.groupby('safra'):\n",
        "    correlacoes_por_safra_target[safra] = calcular_correlacao_safra_target(df_safra, 'quantidade', 'percentual')\n",
        "\n",
        "# Exibir as correlações por safra\n",
        "for safra, correlacao in correlacoes_por_safra_target.items():\n",
        "    print(f\"Correlação entre 'quantidade' e 'percentual' para a Safra: {safra} = {correlacao}\")\n"
      ],
      "metadata": {
        "id": "va_hhDITl0P7",
        "outputId": "1cda8d13-d641-4928-ba5b-ef117bd6c465",
        "colab": {
          "base_uri": "https://localhost:8080/"
        }
      },
      "execution_count": 100,
      "outputs": [
        {
          "output_type": "stream",
          "name": "stdout",
          "text": [
            "Correlação entre 'quantidade' e 'percentual' para a Safra: 2022 = 1.0\n",
            "Correlação entre 'quantidade' e 'percentual' para a Safra: 2023 = 1.0\n",
            "Correlação entre 'quantidade' e 'percentual' para a Safra: 2024 = 1.0\n"
          ]
        }
      ]
    },
    {
      "cell_type": "code",
      "source": [
        "# Função para aplicar a cor nas correlações\n",
        "def colorir_correlações(val):\n",
        "    if abs(val) >= 0.7:\n",
        "        color = 'red'  # Correlação forte\n",
        "    elif abs(val) >= 0.4:\n",
        "        color = 'blue'  # Correlação média\n",
        "    else:\n",
        "        color = 'green'  # Correlação fraca\n",
        "    return f'background-color: {color}'\n",
        "\n",
        "# Visualizando as correlações com cores\n",
        "correlacoes_df = pd.DataFrame(list(correlacoes_por_safra_target.items()), columns=['Safra', 'Correlação'])\n",
        "\n",
        "# Aplicando a coloração nas correlações\n",
        "styled_df = correlacoes_df.style.applymap(lambda x: colorir_correlações(x), subset=['Correlação'])\n",
        "\n",
        "# Exibindo a tabela estilizada\n",
        "display(styled_df)\n"
      ],
      "metadata": {
        "id": "Uc78_KTko_3C",
        "outputId": "d183832d-b281-4f2c-c05e-8e8407ec67fc",
        "colab": {
          "base_uri": "https://localhost:8080/",
          "height": 178
        }
      },
      "execution_count": 101,
      "outputs": [
        {
          "output_type": "stream",
          "name": "stderr",
          "text": [
            "<ipython-input-101-3780b295463c>:15: FutureWarning: Styler.applymap has been deprecated. Use Styler.map instead.\n",
            "  styled_df = correlacoes_df.style.applymap(lambda x: colorir_correlações(x), subset=['Correlação'])\n"
          ]
        },
        {
          "output_type": "display_data",
          "data": {
            "text/plain": [
              "<pandas.io.formats.style.Styler at 0x7b966a031a80>"
            ],
            "text/html": [
              "<style type=\"text/css\">\n",
              "#T_6fd3c_row0_col1, #T_6fd3c_row1_col1, #T_6fd3c_row2_col1 {\n",
              "  background-color: red;\n",
              "}\n",
              "</style>\n",
              "<table id=\"T_6fd3c\" class=\"dataframe\">\n",
              "  <thead>\n",
              "    <tr>\n",
              "      <th class=\"blank level0\" >&nbsp;</th>\n",
              "      <th id=\"T_6fd3c_level0_col0\" class=\"col_heading level0 col0\" >Safra</th>\n",
              "      <th id=\"T_6fd3c_level0_col1\" class=\"col_heading level0 col1\" >Correlação</th>\n",
              "    </tr>\n",
              "  </thead>\n",
              "  <tbody>\n",
              "    <tr>\n",
              "      <th id=\"T_6fd3c_level0_row0\" class=\"row_heading level0 row0\" >0</th>\n",
              "      <td id=\"T_6fd3c_row0_col0\" class=\"data row0 col0\" >2022</td>\n",
              "      <td id=\"T_6fd3c_row0_col1\" class=\"data row0 col1\" >1.000000</td>\n",
              "    </tr>\n",
              "    <tr>\n",
              "      <th id=\"T_6fd3c_level0_row1\" class=\"row_heading level0 row1\" >1</th>\n",
              "      <td id=\"T_6fd3c_row1_col0\" class=\"data row1 col0\" >2023</td>\n",
              "      <td id=\"T_6fd3c_row1_col1\" class=\"data row1 col1\" >1.000000</td>\n",
              "    </tr>\n",
              "    <tr>\n",
              "      <th id=\"T_6fd3c_level0_row2\" class=\"row_heading level0 row2\" >2</th>\n",
              "      <td id=\"T_6fd3c_row2_col0\" class=\"data row2 col0\" >2024</td>\n",
              "      <td id=\"T_6fd3c_row2_col1\" class=\"data row2 col1\" >1.000000</td>\n",
              "    </tr>\n",
              "  </tbody>\n",
              "</table>\n"
            ]
          },
          "metadata": {}
        }
      ]
    },
    {
      "cell_type": "code",
      "source": [
        "# Função para calcular a correlação de Spearman para 'target' e outras variáveis\n",
        "def calcular_correlacao_por_target(df, target, col):\n",
        "    df_target = df[df['target'] == target]\n",
        "    corr, _ = spearmanr(df_target[col], df_target['quantidade'], nan_policy='omit')\n",
        "    return corr\n",
        "\n",
        "# Dicionário para armazenar as correlações por target\n",
        "correlacoes_por_target = {}\n",
        "\n",
        "# Calcular a correlação entre 'quantidade' e 'target'\n",
        "for target in volumetria_safra_target['target'].unique():\n",
        "    correlacoes_por_target[target] = calcular_correlacao_por_target(volumetria_safra_target, target, 'quantidade')\n",
        "\n",
        "# Exibir as correlações\n",
        "print(\"Correlação entre 'quantidade' e 'target':\")\n",
        "for target, corr in correlacoes_por_target.items():\n",
        "    print(f\"Target {target}: {corr}\")\n"
      ],
      "metadata": {
        "id": "WtCvCwSdpZLP",
        "outputId": "e156bf45-ba71-4491-9569-5eaaadeeef06",
        "colab": {
          "base_uri": "https://localhost:8080/"
        }
      },
      "execution_count": 102,
      "outputs": [
        {
          "output_type": "stream",
          "name": "stdout",
          "text": [
            "Correlação entre 'quantidade' e 'target':\n",
            "Target Detrator: 1.0\n",
            "Target Neutro: 1.0\n",
            "Target Promotor: 1.0\n"
          ]
        }
      ]
    }
  ],
  "metadata": {
    "colab": {
      "name": "Damos-lhe as boas-vindas ao Colaboratory",
      "toc_visible": true,
      "provenance": [],
      "include_colab_link": true
    },
    "kernelspec": {
      "display_name": "Python 3",
      "name": "python3"
    }
  },
  "nbformat": 4,
  "nbformat_minor": 0
}