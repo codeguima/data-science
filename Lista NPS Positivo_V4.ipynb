{
  "cells": [
    {
      "cell_type": "markdown",
      "metadata": {
        "id": "view-in-github",
        "colab_type": "text"
      },
      "source": [
        "<a href=\"https://colab.research.google.com/github/jhonnycodedev/data-science/blob/jhonnycodedev/Lista%20NPS%20Positivo_V4.ipynb\" target=\"_parent\"><img src=\"https://colab.research.google.com/assets/colab-badge.svg\" alt=\"Open In Colab\"/></a>"
      ]
    },
    {
      "cell_type": "code",
      "source": [
        "import pandas as pd\n"
      ],
      "metadata": {
        "id": "6HXSvUpR4B_6"
      },
      "execution_count": 1,
      "outputs": []
    },
    {
      "cell_type": "code",
      "source": [
        "from google.colab import files\n",
        "uploaded = files.upload()\n"
      ],
      "metadata": {
        "colab": {
          "base_uri": "https://localhost:8080/",
          "height": 90
        },
        "id": "dbG8ADph4-Ek",
        "outputId": "aec91c25-7de9-45b8-bf1d-9177325c895e"
      },
      "execution_count": 2,
      "outputs": [
        {
          "output_type": "display_data",
          "data": {
            "text/plain": [
              "<IPython.core.display.HTML object>"
            ],
            "text/html": [
              "\n",
              "     <input type=\"file\" id=\"files-f2919e04-b4ae-4481-b598-0112dc146746\" name=\"files[]\" multiple disabled\n",
              "        style=\"border:none\" />\n",
              "     <output id=\"result-f2919e04-b4ae-4481-b598-0112dc146746\">\n",
              "      Upload widget is only available when the cell has been executed in the\n",
              "      current browser session. Please rerun this cell to enable.\n",
              "      </output>\n",
              "      <script>// Copyright 2017 Google LLC\n",
              "//\n",
              "// Licensed under the Apache License, Version 2.0 (the \"License\");\n",
              "// you may not use this file except in compliance with the License.\n",
              "// You may obtain a copy of the License at\n",
              "//\n",
              "//      http://www.apache.org/licenses/LICENSE-2.0\n",
              "//\n",
              "// Unless required by applicable law or agreed to in writing, software\n",
              "// distributed under the License is distributed on an \"AS IS\" BASIS,\n",
              "// WITHOUT WARRANTIES OR CONDITIONS OF ANY KIND, either express or implied.\n",
              "// See the License for the specific language governing permissions and\n",
              "// limitations under the License.\n",
              "\n",
              "/**\n",
              " * @fileoverview Helpers for google.colab Python module.\n",
              " */\n",
              "(function(scope) {\n",
              "function span(text, styleAttributes = {}) {\n",
              "  const element = document.createElement('span');\n",
              "  element.textContent = text;\n",
              "  for (const key of Object.keys(styleAttributes)) {\n",
              "    element.style[key] = styleAttributes[key];\n",
              "  }\n",
              "  return element;\n",
              "}\n",
              "\n",
              "// Max number of bytes which will be uploaded at a time.\n",
              "const MAX_PAYLOAD_SIZE = 100 * 1024;\n",
              "\n",
              "function _uploadFiles(inputId, outputId) {\n",
              "  const steps = uploadFilesStep(inputId, outputId);\n",
              "  const outputElement = document.getElementById(outputId);\n",
              "  // Cache steps on the outputElement to make it available for the next call\n",
              "  // to uploadFilesContinue from Python.\n",
              "  outputElement.steps = steps;\n",
              "\n",
              "  return _uploadFilesContinue(outputId);\n",
              "}\n",
              "\n",
              "// This is roughly an async generator (not supported in the browser yet),\n",
              "// where there are multiple asynchronous steps and the Python side is going\n",
              "// to poll for completion of each step.\n",
              "// This uses a Promise to block the python side on completion of each step,\n",
              "// then passes the result of the previous step as the input to the next step.\n",
              "function _uploadFilesContinue(outputId) {\n",
              "  const outputElement = document.getElementById(outputId);\n",
              "  const steps = outputElement.steps;\n",
              "\n",
              "  const next = steps.next(outputElement.lastPromiseValue);\n",
              "  return Promise.resolve(next.value.promise).then((value) => {\n",
              "    // Cache the last promise value to make it available to the next\n",
              "    // step of the generator.\n",
              "    outputElement.lastPromiseValue = value;\n",
              "    return next.value.response;\n",
              "  });\n",
              "}\n",
              "\n",
              "/**\n",
              " * Generator function which is called between each async step of the upload\n",
              " * process.\n",
              " * @param {string} inputId Element ID of the input file picker element.\n",
              " * @param {string} outputId Element ID of the output display.\n",
              " * @return {!Iterable<!Object>} Iterable of next steps.\n",
              " */\n",
              "function* uploadFilesStep(inputId, outputId) {\n",
              "  const inputElement = document.getElementById(inputId);\n",
              "  inputElement.disabled = false;\n",
              "\n",
              "  const outputElement = document.getElementById(outputId);\n",
              "  outputElement.innerHTML = '';\n",
              "\n",
              "  const pickedPromise = new Promise((resolve) => {\n",
              "    inputElement.addEventListener('change', (e) => {\n",
              "      resolve(e.target.files);\n",
              "    });\n",
              "  });\n",
              "\n",
              "  const cancel = document.createElement('button');\n",
              "  inputElement.parentElement.appendChild(cancel);\n",
              "  cancel.textContent = 'Cancel upload';\n",
              "  const cancelPromise = new Promise((resolve) => {\n",
              "    cancel.onclick = () => {\n",
              "      resolve(null);\n",
              "    };\n",
              "  });\n",
              "\n",
              "  // Wait for the user to pick the files.\n",
              "  const files = yield {\n",
              "    promise: Promise.race([pickedPromise, cancelPromise]),\n",
              "    response: {\n",
              "      action: 'starting',\n",
              "    }\n",
              "  };\n",
              "\n",
              "  cancel.remove();\n",
              "\n",
              "  // Disable the input element since further picks are not allowed.\n",
              "  inputElement.disabled = true;\n",
              "\n",
              "  if (!files) {\n",
              "    return {\n",
              "      response: {\n",
              "        action: 'complete',\n",
              "      }\n",
              "    };\n",
              "  }\n",
              "\n",
              "  for (const file of files) {\n",
              "    const li = document.createElement('li');\n",
              "    li.append(span(file.name, {fontWeight: 'bold'}));\n",
              "    li.append(span(\n",
              "        `(${file.type || 'n/a'}) - ${file.size} bytes, ` +\n",
              "        `last modified: ${\n",
              "            file.lastModifiedDate ? file.lastModifiedDate.toLocaleDateString() :\n",
              "                                    'n/a'} - `));\n",
              "    const percent = span('0% done');\n",
              "    li.appendChild(percent);\n",
              "\n",
              "    outputElement.appendChild(li);\n",
              "\n",
              "    const fileDataPromise = new Promise((resolve) => {\n",
              "      const reader = new FileReader();\n",
              "      reader.onload = (e) => {\n",
              "        resolve(e.target.result);\n",
              "      };\n",
              "      reader.readAsArrayBuffer(file);\n",
              "    });\n",
              "    // Wait for the data to be ready.\n",
              "    let fileData = yield {\n",
              "      promise: fileDataPromise,\n",
              "      response: {\n",
              "        action: 'continue',\n",
              "      }\n",
              "    };\n",
              "\n",
              "    // Use a chunked sending to avoid message size limits. See b/62115660.\n",
              "    let position = 0;\n",
              "    do {\n",
              "      const length = Math.min(fileData.byteLength - position, MAX_PAYLOAD_SIZE);\n",
              "      const chunk = new Uint8Array(fileData, position, length);\n",
              "      position += length;\n",
              "\n",
              "      const base64 = btoa(String.fromCharCode.apply(null, chunk));\n",
              "      yield {\n",
              "        response: {\n",
              "          action: 'append',\n",
              "          file: file.name,\n",
              "          data: base64,\n",
              "        },\n",
              "      };\n",
              "\n",
              "      let percentDone = fileData.byteLength === 0 ?\n",
              "          100 :\n",
              "          Math.round((position / fileData.byteLength) * 100);\n",
              "      percent.textContent = `${percentDone}% done`;\n",
              "\n",
              "    } while (position < fileData.byteLength);\n",
              "  }\n",
              "\n",
              "  // All done.\n",
              "  yield {\n",
              "    response: {\n",
              "      action: 'complete',\n",
              "    }\n",
              "  };\n",
              "}\n",
              "\n",
              "scope.google = scope.google || {};\n",
              "scope.google.colab = scope.google.colab || {};\n",
              "scope.google.colab._files = {\n",
              "  _uploadFiles,\n",
              "  _uploadFilesContinue,\n",
              "};\n",
              "})(self);\n",
              "</script> "
            ]
          },
          "metadata": {}
        },
        {
          "output_type": "stream",
          "name": "stdout",
          "text": [
            "Saving Lista NPS Positivo_V4.xlsx to Lista NPS Positivo_V4.xlsx\n"
          ]
        }
      ]
    },
    {
      "cell_type": "code",
      "source": [
        "import io\n",
        "\n",
        "# Substitua 'nome_do_arquivo.xlsx' pelo nome do seu arquivo\n",
        "df = pd.read_excel(io.BytesIO(uploaded['Lista NPS Positivo_V4.xlsx']), engine='openpyxl')\n"
      ],
      "metadata": {
        "id": "K-Duc9tq5Fc1"
      },
      "execution_count": 4,
      "outputs": []
    },
    {
      "cell_type": "code",
      "source": [
        "# Verificando as primeiras linhas\n",
        "#print(df.head())\n",
        "\n",
        "# Resumo estatístico\n",
        "#print(df.describe())\n",
        "\n",
        "# Informações sobre o DataFrame\n",
        "#print(df.info())\n"
      ],
      "metadata": {
        "id": "4YVrT9Jm42nM"
      },
      "execution_count": null,
      "outputs": []
    },
    {
      "cell_type": "code",
      "source": [
        "# Função para classificar as notas\n",
        "df['target'] = df['nota'].apply(lambda x: 'Promotor' if x >= 9 else ('Neutro' if x >= 7 else 'Detrator'))\n"
      ],
      "metadata": {
        "id": "iiq84gs3AAgq"
      },
      "execution_count": 5,
      "outputs": []
    },
    {
      "cell_type": "code",
      "source": [
        "#print(df.groupby('target').count())"
      ],
      "metadata": {
        "id": "5Xw6Rc5_AE-q"
      },
      "execution_count": 8,
      "outputs": []
    },
    {
      "cell_type": "code",
      "source": [
        "\n",
        "# Filtrar para \"Grupo de Produto\" == \"Grupo 2\"\n",
        "grupo_2_df = df[(df['Grupo de Produto'] == 'Grupo 2') & (df['mercado'] == 'BRASIL')]\n",
        "\n",
        "\n",
        "# Definir as regiões com base nos estados\n",
        "regioes = {\n",
        "    \"Norte\": ['AC', 'AP', 'AM', 'PA', 'RO', 'RR', 'TO'],\n",
        "    \"Nordeste\": ['AL', 'BA', 'CE', 'MA', 'PB', 'PE', 'PI', 'RN', 'SE'],\n",
        "    \"Centro-Oeste\": ['DF', 'GO', 'MT', 'MS'],\n",
        "    \"Sul\": ['PR', 'RS', 'SC'],\n",
        "    \"Sudeste\": ['ES', 'MG', 'RJ', 'SP']\n",
        "}\n",
        "\n",
        "# Função para definir a região com base no estado\n",
        "def obter_regiao(estado):\n",
        "    for regiao, estados in regioes.items():\n",
        "        if estado in estados:\n",
        "            return regiao\n",
        "    return 'Outros(não identificado)'  # Para estados fora das regiões definidas\n",
        "\n"
      ],
      "metadata": {
        "id": "0yeM-JKZ6Ye7"
      },
      "execution_count": 18,
      "outputs": []
    },
    {
      "cell_type": "code",
      "source": [
        "# Crie a coluna 'regiao' se ainda não tiver feito\n",
        "grupo_2_df['regiao'] = grupo_2_df['estado'].apply(obter_regiao)\n",
        "\n",
        "# Crie um dicionário para armazenar os DataFrames\n",
        "dfs_por_regiao = {}\n",
        "\n",
        "# Use o groupby para dividir o DataFrame por 'regiao'\n",
        "for regiao, df_regiao in grupo_2_df.groupby('regiao'):\n",
        "    dfs_por_regiao[regiao] = df_regiao\n"
      ],
      "metadata": {
        "id": "bIq1Pdk5yDys",
        "outputId": "07a5d633-ca7e-47a2-e086-de38667df3e2",
        "colab": {
          "base_uri": "https://localhost:8080/"
        }
      },
      "execution_count": 24,
      "outputs": [
        {
          "output_type": "stream",
          "name": "stderr",
          "text": [
            "<ipython-input-24-40cb2707167c>:2: SettingWithCopyWarning: \n",
            "A value is trying to be set on a copy of a slice from a DataFrame.\n",
            "Try using .loc[row_indexer,col_indexer] = value instead\n",
            "\n",
            "See the caveats in the documentation: https://pandas.pydata.org/pandas-docs/stable/user_guide/indexing.html#returning-a-view-versus-a-copy\n",
            "  grupo_2_df['regiao'] = grupo_2_df['estado'].apply(obter_regiao)\n"
          ]
        }
      ]
    },
    {
      "cell_type": "code",
      "source": [
        "df_norte = dfs_por_regiao['Norte']\n",
        "#df_sul = dfs_por_regiao['Sul']\n",
        "#df_centro-oeste = dfs_por_regiao['Centro-Oeste']\n",
        "#df_nordeste = dfs_por_regiao['Nordeste']\n",
        "#df_sudeste = dfs_por_regiao['Suldeste']\n"
      ],
      "metadata": {
        "id": "CnEmhRUT8sd_"
      },
      "execution_count": 26,
      "outputs": []
    },
    {
      "cell_type": "code",
      "source": [
        "print(df_norte)"
      ],
      "metadata": {
        "id": "T0D_lEYb9t0k",
        "outputId": "cf66e88c-af47-47d8-f7ac-b22207a4a21b",
        "colab": {
          "base_uri": "https://localhost:8080/"
        }
      },
      "execution_count": 27,
      "outputs": [
        {
          "output_type": "stream",
          "name": "stdout",
          "text": [
            "                          db-id control_id                 invite_id  \\\n",
            "479    621cdea78c155d08cf3b6aaf     T72969  620a608ab0d07664995be093   \n",
            "761    6238694fe64df04c22041b1b     CSFINY  620a63695e1e5064865e2188   \n",
            "861    624ee4305db3924b60c10075     D3TI43  620a608ab0d07664995bdf20   \n",
            "1696   62850c9eb0f122255b05a0a0     UQYCJ5  627d02b87b9abc208450b9b4   \n",
            "2534   62a5b9c3e4780323d9ae63ef     VWKLLO  628baebecc34dd7c1edcf1a9   \n",
            "...                         ...        ...                       ...   \n",
            "23295  66a0f173a22fbd001aa60a8a   2SG8G4QT  6696c8c81710790013c326e1   \n",
            "23420  66a3aa7af88b3800351ff407   RV9R9L8Z  6696c8c81710790013c33071   \n",
            "23507  66a7e76c4e62f300258a4310   AWTB7XGW  6696c87be5dcc70013763583   \n",
            "24901  66f7ef619dce9500208197d7   7K4SKZ19  6696c8a4e5dcc7001376e847   \n",
            "24946  66fabd3bdc0da8002517444a   Y4JTRHEH  6696c87be5dcc700137647bf   \n",
            "\n",
            "      Tipo Produto Grupo de Produto Familia do Produto Modelo do Produto  \\\n",
            "479         Tipo 1          Grupo 2         Familia 20         Modelo 29   \n",
            "761         Tipo 1          Grupo 2          Familia 6        Modelo 108   \n",
            "861         Tipo 1          Grupo 2          Familia 6        Modelo 108   \n",
            "1696        Tipo 1          Grupo 2         Familia 20         Modelo 29   \n",
            "2534        Tipo 1          Grupo 2         Familia 38        Modelo 128   \n",
            "...            ...              ...                ...               ...   \n",
            "23295       Tipo 1          Grupo 2         Familia 38        Modelo 128   \n",
            "23420       Tipo 1          Grupo 2         Familia 34        Modelo 145   \n",
            "23507       Tipo 1          Grupo 2         Familia 34        Modelo 145   \n",
            "24901       Tipo 1          Grupo 2         Familia 34        Modelo 146   \n",
            "24946       Tipo 1          Grupo 2         Familia 34        Modelo 146   \n",
            "\n",
            "      Chassi do Produto Marca do Produto           nome  ...  \\\n",
            "479          Chassi 365          Marca 2   Cliente 2798  ...   \n",
            "761          Chassi 597          Marca 1  Cliente 13340  ...   \n",
            "861          Chassi 690          Marca 1  Cliente 10965  ...   \n",
            "1696        Chassi 1389          Marca 2   Cliente 4919  ...   \n",
            "2534        Chassi 2112          Marca 1  Cliente 10758  ...   \n",
            "...                 ...              ...            ...  ...   \n",
            "23295      Chassi 15562          Marca 1   Cliente 2711  ...   \n",
            "23420      Chassi 11696          Marca 1   Cliente 5595  ...   \n",
            "23507      Chassi 15671          Marca 1   Cliente 4981  ...   \n",
            "24901      Chassi 16431          Marca 1   Cliente 5598  ...   \n",
            "24946      Chassi 16464          Marca 1   Cliente 7515  ...   \n",
            "\n",
            "      ¿el problema que tuvo afectó su capacidad para trabajar o le impidió trabajar? (like/dislike)  \\\n",
            "479                                                  NaN                                              \n",
            "761                                                  NaN                                              \n",
            "861                                                  NaN                                              \n",
            "1696                                                 NaN                                              \n",
            "2534                                                 NaN                                              \n",
            "...                                                  ...                                              \n",
            "23295                                                NaN                                              \n",
            "23420                                                NaN                                              \n",
            "23507                                                NaN                                              \n",
            "24901                                                NaN                                              \n",
            "24946                                                NaN                                              \n",
            "\n",
            "      ¿hubo algún problema que requirió llevar el equipo <modelo> para mantenimiento? (like/dislike)  \\\n",
            "479                                                  NaN                                               \n",
            "761                                                  NaN                                               \n",
            "861                                                  NaN                                               \n",
            "1696                                                 NaN                                               \n",
            "2534                                                 NaN                                               \n",
            "...                                                  ...                                               \n",
            "23295                                                NaN                                               \n",
            "23420                                                NaN                                               \n",
            "23507                                                NaN                                               \n",
            "24901                                                NaN                                               \n",
            "24946                                                NaN                                               \n",
            "\n",
            "      ¿se ha resuelto el problema? (like/dislike)  \\\n",
            "479                                           NaN   \n",
            "761                                           NaN   \n",
            "861                                           NaN   \n",
            "1696                                          NaN   \n",
            "2534                                          NaN   \n",
            "...                                           ...   \n",
            "23295                                         NaN   \n",
            "23420                                         NaN   \n",
            "23507                                         NaN   \n",
            "24901                                         NaN   \n",
            "24946                                         NaN   \n",
            "\n",
            "      você pode explicar que tipo de falhas afetaram o sistema elétrico? (like/dislike)  \\\n",
            "479                                                  NaN                                  \n",
            "761                                                  NaN                                  \n",
            "861                                                  NaN                                  \n",
            "1696                                                 NaN                                  \n",
            "2534                                                 NaN                                  \n",
            "...                                                  ...                                  \n",
            "23295                                                NaN                                  \n",
            "23420                                                NaN                                  \n",
            "23507                                                NaN                                  \n",
            "24901                                                NaN                                  \n",
            "24946                                                NaN                                  \n",
            "\n",
            "       ¿hubo alguna falla que afectó el sistema eléctrico (batería, alternador, interruptores, cableado y arranque, conexiones)? (like/dislike)  \\\n",
            "479                                                  NaN                                                                                          \n",
            "761                                                  NaN                                                                                          \n",
            "861                                                  NaN                                                                                          \n",
            "1696                                                 NaN                                                                                          \n",
            "2534                                                 NaN                                                                                          \n",
            "...                                                  ...                                                                                          \n",
            "23295                                                NaN                                                                                          \n",
            "23420                                                NaN                                                                                          \n",
            "23507                                                NaN                                                                                          \n",
            "24901                                                NaN                                                                                          \n",
            "24946                                                NaN                                                                                          \n",
            "\n",
            "      p3 - como você avalia a qualidade e a confiabilidade do seu <modelo> (considere o acabamento e a aparência da sua máquina, falhas, problemas de confiabilidade ou avarias que você possa ter tido)? (csat)  \\\n",
            "479                                                  NaN                                                                                                                                                           \n",
            "761                                                  NaN                                                                                                                                                           \n",
            "861                                                  NaN                                                                                                                                                           \n",
            "1696                                                 NaN                                                                                                                                                           \n",
            "2534                                                 NaN                                                                                                                                                           \n",
            "...                                                  ...                                                                                                                                                           \n",
            "23295                                                NaN                                                                                                                                                           \n",
            "23420                                                NaN                                                                                                                                                           \n",
            "23507                                                NaN                                                                                                                                                           \n",
            "24901                                                NaN                                                                                                                                                           \n",
            "24946                                                NaN                                                                                                                                                           \n",
            "\n",
            "         reacao                   tag_de_tratativa    target regiao  \n",
            "479         NaN                                NaN  Promotor  Norte  \n",
            "761         NaN                                NaN  Promotor  Norte  \n",
            "861         NaN                                NaN  Promotor  Norte  \n",
            "1696   negativo  Pós vendas - Conhecimento Técnico  Promotor  Norte  \n",
            "2534        NaN                                NaN  Promotor  Norte  \n",
            "...         ...                                ...       ...    ...  \n",
            "23295    neutro                  Fábrica-Vazamento    Neutro  Norte  \n",
            "23420    neutro      Serviços-Atendimento serviços  Promotor  Norte  \n",
            "23507  positivo                                NaN  Promotor  Norte  \n",
            "24901    neutro                                NaN  Promotor  Norte  \n",
            "24946       NaN                                NaN  Promotor  Norte  \n",
            "\n",
            "[168 rows x 152 columns]\n"
          ]
        }
      ]
    },
    {
      "cell_type": "code",
      "source": [
        "# Extrair o ano da data de resposta e manter a coluna 'Periodo de Pesquisa'\n",
        "df_teste = df_norte['safra'] = pd.to_datetime(grupo_2_df['data_resposta']).dt.year\n",
        "\n",
        "print(df_teste)"
      ],
      "metadata": {
        "id": "MtkxzNMDzvSJ",
        "outputId": "b46a365b-4245-46b6-dfe2-3c10de469678",
        "colab": {
          "base_uri": "https://localhost:8080/"
        }
      },
      "execution_count": 31,
      "outputs": [
        {
          "output_type": "stream",
          "name": "stdout",
          "text": [
            "6        2022\n",
            "26       2022\n",
            "31       2022\n",
            "36       2022\n",
            "56       2022\n",
            "         ... \n",
            "25075    2024\n",
            "25076    2024\n",
            "25078    2024\n",
            "25079    2024\n",
            "25080    2024\n",
            "Name: data_resposta, Length: 2638, dtype: int32\n"
          ]
        },
        {
          "output_type": "stream",
          "name": "stderr",
          "text": [
            "<ipython-input-31-e064d7bbaa79>:2: UserWarning: Parsing dates in %d/%m/%Y %H:%M:%S format when dayfirst=False (the default) was specified. Pass `dayfirst=True` or specify a format to silence this warning.\n",
            "  df_teste = df_norte['safra'] = pd.to_datetime(grupo_2_df['data_resposta']).dt.year\n"
          ]
        }
      ]
    },
    {
      "cell_type": "code",
      "source": [],
      "metadata": {
        "id": "uIwamVe--5Qj"
      },
      "execution_count": null,
      "outputs": []
    },
    {
      "cell_type": "code",
      "source": [
        "# Agrupar por 'regiao', 'ano_resposta', 'Periodo de Pesquisa' e 'target'\n",
        "# Para contar as ocorrências de cada avaliação (Promotor, Neutro, Detrator) por ano e período\n",
        "resultado_por_ano_periodo = grupo_2_df.groupby(['regiao', 'ano_resposta', 'Periodo de Pesquisa', 'target']).size().unstack(fill_value=0)\n",
        "\n"
      ],
      "metadata": {
        "id": "JN-9_KRkzzKR"
      },
      "execution_count": null,
      "outputs": []
    },
    {
      "cell_type": "code",
      "source": [
        "# Exibir o resumo resultante\n",
        "print(resultado_por_ano_periodo)\n",
        "\n",
        "# (Opcional) Salvar o resultado em um novo arquivo\n",
        "#resultado_por_ano_periodo.to_excel('Resumo_Impacto_Notas_Grupo_2_Por_Ano_e_Periodo.xlsx')\n"
      ],
      "metadata": {
        "id": "PU8dBgDuz1wB"
      },
      "execution_count": null,
      "outputs": []
    }
  ],
  "metadata": {
    "colab": {
      "name": "Damos-lhe as boas-vindas ao Colaboratory",
      "toc_visible": true,
      "provenance": [],
      "include_colab_link": true
    },
    "kernelspec": {
      "display_name": "Python 3",
      "name": "python3"
    }
  },
  "nbformat": 4,
  "nbformat_minor": 0
}