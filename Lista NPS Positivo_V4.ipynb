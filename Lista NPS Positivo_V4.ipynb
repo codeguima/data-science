{
  "cells": [
    {
      "cell_type": "markdown",
      "metadata": {
        "id": "view-in-github",
        "colab_type": "text"
      },
      "source": [
        "<a href=\"https://colab.research.google.com/github/jhonnycodedev/data-science/blob/jhonnycodedev/Lista%20NPS%20Positivo_V4.ipynb\" target=\"_parent\"><img src=\"https://colab.research.google.com/assets/colab-badge.svg\" alt=\"Open In Colab\"/></a>"
      ]
    },
    {
      "cell_type": "code",
      "source": [
        "import pandas as pd\n"
      ],
      "metadata": {
        "id": "6HXSvUpR4B_6"
      },
      "execution_count": 1,
      "outputs": []
    },
    {
      "cell_type": "code",
      "source": [
        "from google.colab import files\n",
        "uploaded = files.upload()\n"
      ],
      "metadata": {
        "colab": {
          "base_uri": "https://localhost:8080/",
          "height": 90
        },
        "id": "dbG8ADph4-Ek",
        "outputId": "3c062369-22b0-4388-80ec-390b2f913ec1"
      },
      "execution_count": 3,
      "outputs": [
        {
          "output_type": "display_data",
          "data": {
            "text/plain": [
              "<IPython.core.display.HTML object>"
            ],
            "text/html": [
              "\n",
              "     <input type=\"file\" id=\"files-07a10544-1855-4e96-a2a4-af39e8f81e25\" name=\"files[]\" multiple disabled\n",
              "        style=\"border:none\" />\n",
              "     <output id=\"result-07a10544-1855-4e96-a2a4-af39e8f81e25\">\n",
              "      Upload widget is only available when the cell has been executed in the\n",
              "      current browser session. Please rerun this cell to enable.\n",
              "      </output>\n",
              "      <script>// Copyright 2017 Google LLC\n",
              "//\n",
              "// Licensed under the Apache License, Version 2.0 (the \"License\");\n",
              "// you may not use this file except in compliance with the License.\n",
              "// You may obtain a copy of the License at\n",
              "//\n",
              "//      http://www.apache.org/licenses/LICENSE-2.0\n",
              "//\n",
              "// Unless required by applicable law or agreed to in writing, software\n",
              "// distributed under the License is distributed on an \"AS IS\" BASIS,\n",
              "// WITHOUT WARRANTIES OR CONDITIONS OF ANY KIND, either express or implied.\n",
              "// See the License for the specific language governing permissions and\n",
              "// limitations under the License.\n",
              "\n",
              "/**\n",
              " * @fileoverview Helpers for google.colab Python module.\n",
              " */\n",
              "(function(scope) {\n",
              "function span(text, styleAttributes = {}) {\n",
              "  const element = document.createElement('span');\n",
              "  element.textContent = text;\n",
              "  for (const key of Object.keys(styleAttributes)) {\n",
              "    element.style[key] = styleAttributes[key];\n",
              "  }\n",
              "  return element;\n",
              "}\n",
              "\n",
              "// Max number of bytes which will be uploaded at a time.\n",
              "const MAX_PAYLOAD_SIZE = 100 * 1024;\n",
              "\n",
              "function _uploadFiles(inputId, outputId) {\n",
              "  const steps = uploadFilesStep(inputId, outputId);\n",
              "  const outputElement = document.getElementById(outputId);\n",
              "  // Cache steps on the outputElement to make it available for the next call\n",
              "  // to uploadFilesContinue from Python.\n",
              "  outputElement.steps = steps;\n",
              "\n",
              "  return _uploadFilesContinue(outputId);\n",
              "}\n",
              "\n",
              "// This is roughly an async generator (not supported in the browser yet),\n",
              "// where there are multiple asynchronous steps and the Python side is going\n",
              "// to poll for completion of each step.\n",
              "// This uses a Promise to block the python side on completion of each step,\n",
              "// then passes the result of the previous step as the input to the next step.\n",
              "function _uploadFilesContinue(outputId) {\n",
              "  const outputElement = document.getElementById(outputId);\n",
              "  const steps = outputElement.steps;\n",
              "\n",
              "  const next = steps.next(outputElement.lastPromiseValue);\n",
              "  return Promise.resolve(next.value.promise).then((value) => {\n",
              "    // Cache the last promise value to make it available to the next\n",
              "    // step of the generator.\n",
              "    outputElement.lastPromiseValue = value;\n",
              "    return next.value.response;\n",
              "  });\n",
              "}\n",
              "\n",
              "/**\n",
              " * Generator function which is called between each async step of the upload\n",
              " * process.\n",
              " * @param {string} inputId Element ID of the input file picker element.\n",
              " * @param {string} outputId Element ID of the output display.\n",
              " * @return {!Iterable<!Object>} Iterable of next steps.\n",
              " */\n",
              "function* uploadFilesStep(inputId, outputId) {\n",
              "  const inputElement = document.getElementById(inputId);\n",
              "  inputElement.disabled = false;\n",
              "\n",
              "  const outputElement = document.getElementById(outputId);\n",
              "  outputElement.innerHTML = '';\n",
              "\n",
              "  const pickedPromise = new Promise((resolve) => {\n",
              "    inputElement.addEventListener('change', (e) => {\n",
              "      resolve(e.target.files);\n",
              "    });\n",
              "  });\n",
              "\n",
              "  const cancel = document.createElement('button');\n",
              "  inputElement.parentElement.appendChild(cancel);\n",
              "  cancel.textContent = 'Cancel upload';\n",
              "  const cancelPromise = new Promise((resolve) => {\n",
              "    cancel.onclick = () => {\n",
              "      resolve(null);\n",
              "    };\n",
              "  });\n",
              "\n",
              "  // Wait for the user to pick the files.\n",
              "  const files = yield {\n",
              "    promise: Promise.race([pickedPromise, cancelPromise]),\n",
              "    response: {\n",
              "      action: 'starting',\n",
              "    }\n",
              "  };\n",
              "\n",
              "  cancel.remove();\n",
              "\n",
              "  // Disable the input element since further picks are not allowed.\n",
              "  inputElement.disabled = true;\n",
              "\n",
              "  if (!files) {\n",
              "    return {\n",
              "      response: {\n",
              "        action: 'complete',\n",
              "      }\n",
              "    };\n",
              "  }\n",
              "\n",
              "  for (const file of files) {\n",
              "    const li = document.createElement('li');\n",
              "    li.append(span(file.name, {fontWeight: 'bold'}));\n",
              "    li.append(span(\n",
              "        `(${file.type || 'n/a'}) - ${file.size} bytes, ` +\n",
              "        `last modified: ${\n",
              "            file.lastModifiedDate ? file.lastModifiedDate.toLocaleDateString() :\n",
              "                                    'n/a'} - `));\n",
              "    const percent = span('0% done');\n",
              "    li.appendChild(percent);\n",
              "\n",
              "    outputElement.appendChild(li);\n",
              "\n",
              "    const fileDataPromise = new Promise((resolve) => {\n",
              "      const reader = new FileReader();\n",
              "      reader.onload = (e) => {\n",
              "        resolve(e.target.result);\n",
              "      };\n",
              "      reader.readAsArrayBuffer(file);\n",
              "    });\n",
              "    // Wait for the data to be ready.\n",
              "    let fileData = yield {\n",
              "      promise: fileDataPromise,\n",
              "      response: {\n",
              "        action: 'continue',\n",
              "      }\n",
              "    };\n",
              "\n",
              "    // Use a chunked sending to avoid message size limits. See b/62115660.\n",
              "    let position = 0;\n",
              "    do {\n",
              "      const length = Math.min(fileData.byteLength - position, MAX_PAYLOAD_SIZE);\n",
              "      const chunk = new Uint8Array(fileData, position, length);\n",
              "      position += length;\n",
              "\n",
              "      const base64 = btoa(String.fromCharCode.apply(null, chunk));\n",
              "      yield {\n",
              "        response: {\n",
              "          action: 'append',\n",
              "          file: file.name,\n",
              "          data: base64,\n",
              "        },\n",
              "      };\n",
              "\n",
              "      let percentDone = fileData.byteLength === 0 ?\n",
              "          100 :\n",
              "          Math.round((position / fileData.byteLength) * 100);\n",
              "      percent.textContent = `${percentDone}% done`;\n",
              "\n",
              "    } while (position < fileData.byteLength);\n",
              "  }\n",
              "\n",
              "  // All done.\n",
              "  yield {\n",
              "    response: {\n",
              "      action: 'complete',\n",
              "    }\n",
              "  };\n",
              "}\n",
              "\n",
              "scope.google = scope.google || {};\n",
              "scope.google.colab = scope.google.colab || {};\n",
              "scope.google.colab._files = {\n",
              "  _uploadFiles,\n",
              "  _uploadFilesContinue,\n",
              "};\n",
              "})(self);\n",
              "</script> "
            ]
          },
          "metadata": {}
        },
        {
          "output_type": "stream",
          "name": "stdout",
          "text": [
            "Saving Lista NPS Positivo_V4.xlsx to Lista NPS Positivo_V4.xlsx\n"
          ]
        }
      ]
    },
    {
      "cell_type": "code",
      "source": [
        "import io\n",
        "\n",
        "# Substitua 'nome_do_arquivo.xlsx' pelo nome do seu arquivo\n",
        "df = pd.read_excel(io.BytesIO(uploaded['Lista NPS Positivo_V4.xlsx']), engine='openpyxl')\n"
      ],
      "metadata": {
        "id": "K-Duc9tq5Fc1"
      },
      "execution_count": 4,
      "outputs": []
    },
    {
      "cell_type": "code",
      "source": [
        "# Verificando as primeiras linhas\n",
        "#print(df.head())\n",
        "\n",
        "# Resumo estatístico\n",
        "#print(df.describe())\n",
        "\n",
        "# Informações sobre o DataFrame\n",
        "#print(df.info())\n"
      ],
      "metadata": {
        "id": "4YVrT9Jm42nM"
      },
      "execution_count": 5,
      "outputs": []
    },
    {
      "cell_type": "code",
      "source": [],
      "metadata": {
        "id": "5BOUT-ODzQk_"
      },
      "execution_count": null,
      "outputs": []
    },
    {
      "cell_type": "code",
      "source": [
        "# Função para classificar as notas\n",
        "df['target'] = df['nota'].apply(lambda x: 'Promotor' if x >= 9 else ('Neutro' if x >= 7 else 'Detrator'))\n"
      ],
      "metadata": {
        "id": "iiq84gs3AAgq"
      },
      "execution_count": 22,
      "outputs": []
    },
    {
      "cell_type": "code",
      "source": [
        "df.groupby('target').count()"
      ],
      "metadata": {
        "id": "5Xw6Rc5_AE-q"
      },
      "execution_count": 24,
      "outputs": []
    },
    {
      "cell_type": "code",
      "source": [
        "#import pandas as pd\n",
        "\n",
        "# Carregar o arquivo Excel\n",
        "#file_path = 'Lista NPS Positivo_V4.xlsx'\n",
        "#df = pd.read_excel(file_path, sheet_name='answers')\n",
        "\n",
        "# Classificar as notas\n",
        "if 'nota' in df.columns:\n",
        "    df['target'] = df['nota'].apply(lambda x: 'Promotor' if x >= 9 else ('Neutro' if x >= 7 else 'Detrator'))\n",
        "\n",
        "# Filtrar para \"Grupo de Produto\" == \"Grupo 2\"\n",
        "grupo_2_df = df[df['Grupo de Produto'] == 'Grupo 2']\n",
        "\n",
        "# Definir as regiões com base nos estados\n",
        "regioes = {\n",
        "    \"Norte\": ['AC', 'AP', 'AM', 'PA', 'RO', 'RR', 'TO'],\n",
        "    \"Nordeste\": ['AL', 'BA', 'CE', 'MA', 'PB', 'PE', 'PI', 'RN', 'SE'],\n",
        "    \"Centro-Oeste\": ['DF', 'GO', 'MT', 'MS'],\n",
        "    \"Sul\": ['PR', 'RS', 'SC'],\n",
        "    \"Sudeste\": ['ES', 'MG', 'RJ', 'SP']\n",
        "}\n",
        "\n",
        "# Função para definir a região com base no estado\n",
        "def obter_regiao(estado):\n",
        "    for regiao, estados in regioes.items():\n",
        "        if estado in estados:\n",
        "            return regiao\n",
        "    return 'Outros'  # Para estados fora das regiões definidas\n",
        "\n",
        "# Aplicar a função para criar a coluna 'regiao'\n",
        "grupo_2_df['regiao'] = grupo_2_df['estado'].apply(obter_regiao)\n",
        "\n",
        "# Extrair o ano da data de resposta e manter a coluna 'Periodo de Pesquisa'\n",
        "grupo_2_df['ano_resposta'] = pd.to_datetime(grupo_2_df['data_resposta']).dt.year\n",
        "\n",
        "# Agrupar por 'regiao', 'ano_resposta', 'Periodo de Pesquisa' e 'target'\n",
        "# Para contar as ocorrências de cada avaliação (Promotor, Neutro, Detrator) por ano e período\n",
        "resultado_por_ano_periodo = grupo_2_df.groupby(['regiao', 'ano_resposta', 'Periodo de Pesquisa', 'target']).size().unstack(fill_value=0)\n",
        "\n",
        "# Exibir o resumo resultante\n",
        "print(resultado_por_ano_periodo)\n",
        "\n",
        "# (Opcional) Salvar o resultado em um novo arquivo\n",
        "#resultado_por_ano_periodo.to_excel('Resumo_Impacto_Notas_Grupo_2_Por_Ano_e_Periodo.xlsx')\n"
      ],
      "metadata": {
        "colab": {
          "base_uri": "https://localhost:8080/"
        },
        "id": "0yeM-JKZ6Ye7",
        "outputId": "d4a219f7-bdb5-46a3-a5d5-3870fbe229dc"
      },
      "execution_count": 31,
      "outputs": [
        {
          "output_type": "stream",
          "name": "stdout",
          "text": [
            "target                                         Detrator  Neutro  Promotor\n",
            "regiao       ano_resposta Periodo de Pesquisa                            \n",
            "Centro-Oeste 2022          3 a 6 M                    0       1         0\n",
            "                          12 a 18 M                   4       3        15\n",
            "                          18 a 30 M                   0       6        16\n",
            "                          3 a 6 M                     3       6        16\n",
            "                          6 a 12 M                    2       6        19\n",
            "...                                                 ...     ...       ...\n",
            "Sul          2023         6 a 12 M                    5      16        44\n",
            "             2024         12 a 18 M                   4       9        39\n",
            "                          18 a 30 M                   9       7        22\n",
            "                          3 a 6 M                     4      19        82\n",
            "                          6 a 12 M                    8      24        77\n",
            "\n",
            "[79 rows x 3 columns]\n"
          ]
        },
        {
          "output_type": "stream",
          "name": "stderr",
          "text": [
            "<ipython-input-31-c292ee8caf57>:31: SettingWithCopyWarning: \n",
            "A value is trying to be set on a copy of a slice from a DataFrame.\n",
            "Try using .loc[row_indexer,col_indexer] = value instead\n",
            "\n",
            "See the caveats in the documentation: https://pandas.pydata.org/pandas-docs/stable/user_guide/indexing.html#returning-a-view-versus-a-copy\n",
            "  grupo_2_df['regiao'] = grupo_2_df['estado'].apply(obter_regiao)\n",
            "<ipython-input-31-c292ee8caf57>:34: UserWarning: Parsing dates in %d/%m/%Y %H:%M:%S format when dayfirst=False (the default) was specified. Pass `dayfirst=True` or specify a format to silence this warning.\n",
            "  grupo_2_df['ano_resposta'] = pd.to_datetime(grupo_2_df['data_resposta']).dt.year\n",
            "<ipython-input-31-c292ee8caf57>:34: SettingWithCopyWarning: \n",
            "A value is trying to be set on a copy of a slice from a DataFrame.\n",
            "Try using .loc[row_indexer,col_indexer] = value instead\n",
            "\n",
            "See the caveats in the documentation: https://pandas.pydata.org/pandas-docs/stable/user_guide/indexing.html#returning-a-view-versus-a-copy\n",
            "  grupo_2_df['ano_resposta'] = pd.to_datetime(grupo_2_df['data_resposta']).dt.year\n"
          ]
        }
      ]
    },
    {
      "cell_type": "code",
      "source": [
        "#import pandas as pd\n",
        "\n",
        "# Carregar o arquivo Excel\n",
        "#file_path = 'Lista NPS Positivo_V4.xlsx'\n",
        "#df = pd.read_excel(file_path, sheet_name='answers')\n",
        "\n",
        "# Classificar as notas\n",
        "if 'nota' in df.columns:\n",
        "    df['target'] = df['nota'].apply(lambda x: 'Promotor' if x >= 9 else ('Neutro' if x >= 7 else 'Detrator'))\n",
        "\n",
        "# Filtrar para o \"Grupo de Produto\" == \"Grupo 2\"\n",
        "grupo_2_df = df[df['Grupo de Produto'] == 'Grupo 2']\n",
        "\n",
        "# Definir as regiões com base nos estados\n",
        "regioes = {\n",
        "    \"Norte\": ['AC', 'AP', 'AM', 'PA', 'RO', 'RR', 'TO'],\n",
        "    \"Nordeste\": ['AL', 'BA', 'CE', 'MA', 'PB', 'PE', 'PI', 'RN', 'SE'],\n",
        "    \"Centro-Oeste\": ['DF', 'GO', 'MT', 'MS'],\n",
        "    \"Sul\": ['PR', 'RS', 'SC'],\n",
        "    \"Sudeste\": ['ES', 'MG', 'RJ', 'SP']\n",
        "}\n",
        "\n",
        "# Criar uma coluna para a região\n",
        "def obter_regiao(estado):\n",
        "    for regiao, estados in regioes.items():\n",
        "        if estado in estados:\n",
        "            return regiao\n",
        "    return 'Outros'  # Caso o estado não pertença a nenhuma das regiões\n",
        "\n",
        "grupo_2_df['regiao'] = grupo_2_df['estado'].apply(obter_regiao)\n",
        "\n",
        "# Extrair o ano de 'data_resposta' para análise temporal\n",
        "grupo_2_df['ano_resposta'] = pd.to_datetime(grupo_2_df['data_resposta']).dt.year\n",
        "\n",
        "# Criar um resumo das notas por região e ano\n",
        "resultado_por_regiao_ano = grupo_2_df.groupby(['regiao', 'ano_resposta', 'target']).size().unstack(fill_value=0)\n",
        "\n",
        "# Exibir o resumo\n",
        "print(resultado_por_regiao_ano)\n",
        "\n",
        "# (Opcional) Salvar o resultado em um novo arquivo para análise detalhada\n",
        "#resultado_por_regiao_ano.to_excel('Resumo_Impacto_Notas_Grupo_2.xlsx')\n",
        "\n"
      ],
      "metadata": {
        "colab": {
          "base_uri": "https://localhost:8080/"
        },
        "id": "XqVo29zazDAe",
        "outputId": "65580490-6e69-4d12-928c-096ef3f52c6c"
      },
      "execution_count": 30,
      "outputs": [
        {
          "output_type": "stream",
          "name": "stdout",
          "text": [
            "target                     Detrator  Neutro  Promotor\n",
            "regiao       ano_resposta                            \n",
            "Centro-Oeste 2022                 9      22        66\n",
            "             2023                21      26       155\n",
            "             2024                18      14        80\n",
            "Nordeste     2022                 4       8        26\n",
            "             2023                 3      17        71\n",
            "             2024                 4      13        93\n",
            "Norte        2022                 2       5        18\n",
            "             2023                 7      16        58\n",
            "             2024                 7       7        48\n",
            "Outros       2022                23      29        89\n",
            "             2023                10      21        60\n",
            "             2024                25      49       171\n",
            "Sudeste      2022                21      43        83\n",
            "             2023                32      66       195\n",
            "             2024                18      38       191\n",
            "Sul          2022                32      61       124\n",
            "             2023                34      72       220\n",
            "             2024                25      59       220\n"
          ]
        },
        {
          "output_type": "stream",
          "name": "stderr",
          "text": [
            "<ipython-input-30-8ef460c0a1e9>:30: SettingWithCopyWarning: \n",
            "A value is trying to be set on a copy of a slice from a DataFrame.\n",
            "Try using .loc[row_indexer,col_indexer] = value instead\n",
            "\n",
            "See the caveats in the documentation: https://pandas.pydata.org/pandas-docs/stable/user_guide/indexing.html#returning-a-view-versus-a-copy\n",
            "  grupo_2_df['regiao'] = grupo_2_df['estado'].apply(obter_regiao)\n",
            "<ipython-input-30-8ef460c0a1e9>:33: UserWarning: Parsing dates in %d/%m/%Y %H:%M:%S format when dayfirst=False (the default) was specified. Pass `dayfirst=True` or specify a format to silence this warning.\n",
            "  grupo_2_df['ano_resposta'] = pd.to_datetime(grupo_2_df['data_resposta']).dt.year\n",
            "<ipython-input-30-8ef460c0a1e9>:33: SettingWithCopyWarning: \n",
            "A value is trying to be set on a copy of a slice from a DataFrame.\n",
            "Try using .loc[row_indexer,col_indexer] = value instead\n",
            "\n",
            "See the caveats in the documentation: https://pandas.pydata.org/pandas-docs/stable/user_guide/indexing.html#returning-a-view-versus-a-copy\n",
            "  grupo_2_df['ano_resposta'] = pd.to_datetime(grupo_2_df['data_resposta']).dt.year\n"
          ]
        }
      ]
    }
  ],
  "metadata": {
    "colab": {
      "name": "Damos-lhe as boas-vindas ao Colaboratory",
      "toc_visible": true,
      "provenance": [],
      "include_colab_link": true
    },
    "kernelspec": {
      "display_name": "Python 3",
      "name": "python3"
    }
  },
  "nbformat": 4,
  "nbformat_minor": 0
}